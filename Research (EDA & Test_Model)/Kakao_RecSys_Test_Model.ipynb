{
  "cells": [
    {
      "cell_type": "code",
      "execution_count": 1,
      "metadata": {
        "colab": {
          "base_uri": "https://localhost:8080/"
        },
        "id": "XpN9OAbSYwZn",
        "outputId": "626eed71-4b6d-4f6e-9ad0-42cea3046e98"
      },
      "outputs": [
        {
          "name": "stdout",
          "output_type": "stream",
          "text": [
            "Mounted at /content/drive\n"
          ]
        }
      ],
      "source": [
        "from google.colab import drive\n",
        "drive.mount('/content/drive')"
      ]
    },
    {
      "cell_type": "markdown",
      "metadata": {
        "id": "1UhYj8lTZQXL"
      },
      "source": [
        "# 모델에 사용할 데이터\n",
        "- JSON -> Pandas 변환"
      ]
    },
    {
      "cell_type": "markdown",
      "metadata": {
        "id": "UQ-z41RqWiv2"
      },
      "source": [
        "## products.json\n",
        "\n",
        "- product_id\n",
        "- product_name - str\n",
        "- product_price\n",
        "- product_inventory - 재고\n",
        "- category - 0 ~ 7\n",
        "- discount\n",
        "- review_star\n",
        "- product_quanity - 구매수량"
      ]
    },
    {
      "cell_type": "code",
      "execution_count": 18,
      "metadata": {
        "colab": {
          "base_uri": "https://localhost:8080/"
        },
        "id": "vKvT-QpXWBhR",
        "outputId": "f58c6942-ecc7-4ca7-b090-9642f6a81ce2"
      },
      "outputs": [
        {
          "name": "stdout",
          "output_type": "stream",
          "text": [
            "[{'product_id': 1, 'product_name': '밀크 클래식 쌀과자 240g -과자-', 'product_explanation': '진한 우유향이 매력적인 쌀과자', 'product_image': 'image_1_1.jpg', 'product_detail_image': 'image_1_2.jpg', 'product_price': 4500, 'product_inventory': 110, 'category': '간식/과자', 'discount': 8, 'create_time': '2023-12-19 20:25:28', 'update_time': '2024-08-12 16:24:31.138675', 'cart_id': None, 'member_id': 4, 'review_star': 4.8, 'product_quanity': 450}, {'product_id': 2, 'product_name': '새우깡 미니팩 30g X 4입 -과자-', 'product_explanation': '가볍게 증기는 고소한 새우맛 과자', 'product_image': 'image_2_1.jpg', 'product_detail_image': 'image_2_2.jpg', 'product_price': 2250, 'product_inventory': 120, 'category': '간식/과자', 'discount': 10, 'create_time': '2022-12-31 23:14:21', 'update_time': '2024-08-12 16:24:31.138699', 'cart_id': None, 'member_id': 3, 'review_star': 4.9, 'product_quanity': 480}, {'product_id': 3, 'product_name': '마카로니 과자 305g -과자-', 'product_explanation': '자꾸만 손이 가는 추억의 마카로니 과자', 'product_image': 'image_3_1.jpg', 'product_detail_image': 'image_3_2.jpg', 'product_price': 3680, 'product_inventory': 130, 'category': '간식/과자', 'discount': 10, 'create_time': '2021-03-28 21:57:51', 'update_time': '2024-08-12 16:24:31.138708', 'cart_id': None, 'member_id': 6, 'review_star': 4.75, 'product_quanity': 400}, {'product_id': 4, 'product_name': 'Lay`s 감자칩 5종 -과자-', 'product_explanation': '세계인의 사랑을 받는 감자맛 과자', 'product_image': 'image_4_1.jpg', 'product_detail_image': 'image_4_2.jpg', 'product_price': 4980, 'product_inventory': 200, 'category': '간식/과자', 'discount': 10, 'create_time': '2023-09-11 06:06:23', 'update_time': '2024-08-12 16:24:31.138716', 'cart_id': None, 'member_id': 3, 'review_star': 4.5, 'product_quanity': 470}, {'product_id': 5, 'product_name': '카스타드 오리지널 230g -과자-', 'product_explanation': '촉촉한 빵 속 부드러운 크림이 들어간 과자', 'product_image': 'image_5_1.jpg', 'product_detail_image': 'image_5_2.jpg', 'product_price': 4780, 'product_inventory': 120, 'category': '간식/과자', 'discount': 9, 'create_time': '2022-06-23 12:11:31', 'update_time': '2024-08-12 16:24:31.138724', 'cart_id': None, 'member_id': 7, 'review_star': 4.7, 'product_quanity': 370}, {'product_id': 6, 'product_name': '것플렉스 두부과자 6종 -과자-', 'product_explanation': '오븐에 구워 담백한 풍미를 가진 과자', 'product_image': 'image_6_1.jpg', 'product_detail_image': 'image_6_2.jpg', 'product_price': 2500, 'product_inventory': 110, 'category': '간식/과자', 'discount': 6, 'create_time': '2021-03-26 17:56:06', 'update_time': '2024-08-12 16:24:31.138732', 'cart_id': None, 'member_id': 4, 'review_star': 3.9, 'product_quanity': 300}, {'product_id': 7, 'product_name': '그랜드 감자칩 2묶음 6종 -과자-', 'product_explanation': '얇아서 더 바삭한 감자맛 과자', 'product_image': 'image_7_1.jpg', 'product_detail_image': 'image_7_2.jpg', 'product_price': 5980, 'product_inventory': 230, 'category': '간식/과자', 'discount': 10, 'create_time': '2021-11-27 10:44:12', 'update_time': '2024-08-12 16:24:31.138740', 'cart_id': None, 'member_id': 4, 'review_star': 4.85, 'product_quanity': 490}, {'product_id': 8, 'product_name': '통연근 그대로 튀긴 연금칩 30g -과자-', 'product_explanation': '담백하고 바삭한 뿌리채소 과자', 'product_image': 'image_8_1.jpg', 'product_detail_image': 'image_8_2.jpg', 'product_price': 3480, 'product_inventory': 140, 'category': '간식/과자', 'discount': 10, 'create_time': '2023-09-27 06:38:45', 'update_time': '2024-08-12 16:24:31.138748', 'cart_id': None, 'member_id': 10, 'review_star': 4.3, 'product_quanity': 450}, {'product_id': 9, 'product_name': '홈런볼 초코 4번들 164g -과자-', 'product_explanation': '폭신한 슈를 채운 달콤함을 가진 과자', 'product_image': 'image_9_1.jpg', 'product_detail_image': 'image_9_2.jpg', 'product_price': 4780, 'product_inventory': 125, 'category': '간식/과자', 'discount': 9, 'create_time': '2022-03-02 00:12:51', 'update_time': '2024-08-12 16:24:31.138756', 'cart_id': None, 'member_id': 10, 'review_star': 4.7, 'product_quanity': 400}, {'product_id': 10, 'product_name': '무뚝뚝 스낵 3종 -과자-', 'product_explanation': '입안에서 톡톡 부서지는 통감자칩 과자', 'product_image': 'image_10_1.jpg', 'product_detail_image': 'image_10_2.jpg', 'product_price': 2720, 'product_inventory': 130, 'category': '간식/과자', 'discount': 10, 'create_time': '2021-10-18 04:49:14', 'update_time': '2024-08-12 16:24:31.138764', 'cart_id': None, 'member_id': 6, 'review_star': 4.75, 'product_quanity': 350}, {'product_id': 11, 'product_name': '쁘티첼 과일젤리 요거젤리 큰컵 6종 골라담기 -초콜릿-젤리-', 'product_explanation': '더 풍성하게 즐기는 쫀득함이 매력인 초콜릿-젤리', 'product_image': 'image_11_1.jpg', 'product_detail_image': 'image_11_2.jpg', 'product_price': 2000, 'product_inventory': 245, 'category': '간식/초콜릿-젤리', 'discount': 12, 'create_time': '2022-07-16 13:55:42', 'update_time': '2024-08-12 16:24:31.138779', 'cart_id': None, 'member_id': 2, 'review_star': 4.85, 'product_quanity': 490}, {'product_id': 12, 'product_name': '탑후르츠 젤리 3종 -초콜릿-젤리-', 'product_explanation': '쫀득꾸덕 재미난 식감을 가진 초콜릿-젤리', 'product_image': 'image_12_1.jpg', 'product_detail_image': 'image_12_2.jpg', 'product_price': 6980, 'product_inventory': 175, 'category': '간식/초콜릿-젤리', 'discount': 15, 'create_time': '2021-10-29 20:48:51', 'update_time': '2024-08-12 16:24:31.138787', 'cart_id': None, 'member_id': 9, 'review_star': 3.75, 'product_quanity': 350}, {'product_id': 13, 'product_name': '하리보 포켓 사이즈 젤리 6종 -초콜릿-젤리-', 'product_explanation': '취향대로 골라 맛보는 초콜릿-젤리', 'product_image': 'image_13_1.jpg', 'product_detail_image': 'image_13_2.jpg', 'product_price': 1680, 'product_inventory': 110, 'category': '간식/초콜릿-젤리', 'discount': 10, 'create_time': '2023-02-13 21:39:30', 'update_time': '2024-08-12 16:24:31.138795', 'cart_id': None, 'member_id': 10, 'review_star': 3.5, 'product_quanity': 275}, {'product_id': 14, 'product_name': '킷캣 미니 오리지널 초코 웨이퍼 405g -초콜릿-젤리-', 'product_explanation': '넉넉히 즐기는 달콤한 간식용 초콜릿-젤리', 'product_image': 'image_14_1.jpg', 'product_detail_image': 'image_14_2.jpg', 'product_price': 13980, 'product_inventory': 205, 'category': '간식/초콜릿-젤리', 'discount': 12, 'create_time': '2020-11-15 03:07:14', 'update_time': '2024-08-12 16:24:31.138803', 'cart_id': None, 'member_id': 10, 'review_star': 4.2, 'product_quanity': 475}, {'product_id': 15, 'product_name': '닥터유 프로미니 단백갑 280g 2종 -초콜릿-젤리-', 'product_explanation': '달콤하게 즐기는 단백질 간식 초콜릿-젤리', 'product_image': 'image_15_1.jpg', 'product_detail_image': 'image_15_2.jpg', 'product_price': 7780, 'product_inventory': 210, 'category': '간식/초콜릿-젤리', 'discount': 14, 'create_time': '2022-04-21 05:41:08', 'update_time': '2024-08-12 16:24:31.138812', 'cart_id': None, 'member_id': 6, 'review_star': 4.0, 'product_quanity': 400}, {'product_id': 16, 'product_name': '모리나가 하이츄 2종 -초콜릿-젤리-', 'product_explanation': '이에 붙지 않는 쫀득한 식감의 초콜릿-젤리', 'product_image': 'image_16_1.jpg', 'product_detail_image': 'image_16_2.jpg', 'product_price': 2500, 'product_inventory': 240, 'category': '간식/초콜릿-젤리', 'discount': 40, 'create_time': '2023-02-06 00:28:41', 'update_time': '2024-08-12 16:24:31.138822', 'cart_id': None, 'member_id': 9, 'review_star': 3.8, 'product_quanity': 375}, {'product_id': 17, 'product_name': '부샤드 벨지안 초콜릿 3종 -초콜릿-젤리-', 'product_explanation': '오독오독한 식감의 진한 초콜릿-젤리', 'product_image': 'image_17_1.jpg', 'product_detail_image': 'image_17_2.jpg', 'product_price': 6480, 'product_inventory': 230, 'category': '간식/초콜릿-젤리', 'discount': 20, 'create_time': '2020-07-05 18:56:06', 'update_time': '2024-08-12 16:24:31.138830', 'cart_id': None, 'member_id': 8, 'review_star': 4.1, 'product_quanity': 480}, {'product_id': 18, 'product_name': '킨더 초콜릿바 미니 20개입 -초콜릿-젤리-', 'product_explanation': '한입 크기로 완성한 달콤한 초콜릿-젤리', 'product_image': 'image_18_1.jpg', 'product_detail_image': 'image_18_2.jpg', 'product_price': 4780, 'product_inventory': 190, 'category': '간식/초콜릿-젤리', 'discount': 35, 'create_time': '2023-12-13 15:21:39', 'update_time': '2024-08-12 16:24:31.138838', 'cart_id': None, 'member_id': 9, 'review_star': 4.5, 'product_quanity': 490}, {'product_id': 19, 'product_name': '리터스포트 큐브 초콜릿 3종 -초콜릿-젤리-', 'product_explanation': '한입에 쏙 넣는 조각 초콜릿-젤리', 'product_image': 'image_19_1.jpg', 'product_detail_image': 'image_19_2.jpg', 'product_price': 8980, 'product_inventory': 250, 'category': '간식/초콜릿-젤리', 'discount': 40, 'create_time': '2020-01-04 00:58:34', 'update_time': '2024-08-12 16:24:31.138845', 'cart_id': None, 'member_id': 2, 'review_star': 4.9, 'product_quanity': 500}, {'product_id': 20, 'product_name': '김보람 생 초콜릿 추천 4종 -초콜릿-젤리-', 'product_explanation': '사르르 녹는 달콤한 초콜릿-젤리', 'product_image': 'image_20_1.jpg', 'product_detail_image': 'image_20_2.jpg', 'product_price': 11000, 'product_inventory': 245, 'category': '간식/초콜릿-젤리', 'discount': 12, 'create_time': '2022-04-18 12:46:54', 'update_time': '2024-08-12 16:24:31.138853', 'cart_id': None, 'member_id': 10, 'review_star': 4.75, 'product_quanity': 490}, {'product_id': 21, 'product_name': '핀까엘오리엔말벡 -레드와인-', 'product_explanation': '실크처럼 부드러운 감촉과 자연스러운 산미의 균형감이 훌륭한 미디엄 바디 스타일 레드와인', 'product_image': 'image_21_1.jpg', 'product_detail_image': 'image_21_2.jpg', 'product_price': 18000, 'product_inventory': 210, 'category': '와인-위스키/레드와인', 'discount': 15, 'create_time': '2021-06-22 10:08:07', 'update_time': '2024-08-12 16:24:31.138861', 'cart_id': None, 'member_id': 9, 'review_star': 4.1, 'product_quanity': 400}, {'product_id': 22, 'product_name': '비네암샤또아무레즈16 -레드와인-', 'product_explanation': '진한 레드 컬러에 과일, 꽃, 향신료의 조화로운 부케가 특징인 레드와인', 'product_image': 'image_22_1.jpg', 'product_detail_image': 'image_22_2.jpg', 'product_price': 46000, 'product_inventory': 140, 'category': '와인-위스키/레드와인', 'discount': 14, 'create_time': '2023-12-22 18:06:36', 'update_time': '2024-08-12 16:24:31.138880', 'cart_id': None, 'member_id': 8, 'review_star': 4.5, 'product_quanity': 380}, {'product_id': 23, 'product_name': '랑데뷰 까베르네시라 -레드와인-', 'product_explanation': '유명호텔 연회장 와인에 선정된 한식에 잘 어울리는 프랑스 레드와인', 'product_image': 'image_23_1.jpg', 'product_detail_image': 'image_23_2.jpg', 'product_price': 14900, 'product_inventory': 220, 'category': '와인-위스키/레드와인', 'discount': 13, 'create_time': '2021-05-17 21:03:55', 'update_time': '2024-08-12 16:24:31.138888', 'cart_id': None, 'member_id': 7, 'review_star': 4.0, 'product_quanity': 375}, {'product_id': 24, 'product_name': '유미의 세포 까베르네쇼비뇽 6입 -레드와인-', 'product_explanation': '네이버 웹툰 유미의 세포들과 콜라보 레이블로 선보이는 가성비 레드와인', 'product_image': 'image_24_1.jpg', 'product_detail_image': 'image_24_2.jpg', 'product_price': 49900, 'product_inventory': 240, 'category': '와인-위스키/레드와인', 'discount': 15, 'create_time': '2022-02-01 05:47:12', 'update_time': '2024-08-12 16:24:31.138895', 'cart_id': None, 'member_id': 7, 'review_star': 4.8, 'product_quanity': 490}, {'product_id': 25, 'product_name': '해커 -레드와인-', 'product_explanation': '이탈이아 2031이 즐겨 마시는 HIP한 레드와인', 'product_image': 'image_25_1.jpg', 'product_detail_image': 'image_25_2.jpg', 'product_price': 29900, 'product_inventory': 150, 'category': '와인-위스키/레드와인', 'discount': 15, 'create_time': '2022-12-21 07:09:06', 'update_time': '2024-08-12 16:24:31.138910', 'cart_id': None, 'member_id': 4, 'review_star': 4.2, 'product_quanity': 400}, {'product_id': 26, 'product_name': '페데럴레드블랜 -레드와인-', 'product_explanation': '아브라함 링컨 대통령에 대한 존경심을 표현하며 만든 블렌드 레드와인', 'product_image': 'image_26_1.jpg', 'product_detail_image': 'image_26_2.jpg', 'product_price': 50000, 'product_inventory': 160, 'category': '와인-위스키/레드와인', 'discount': 12, 'create_time': '2022-06-01 08:14:32', 'update_time': '2024-08-12 16:24:31.138917', 'cart_id': None, 'member_id': 3, 'review_star': 4.5, 'product_quanity': 350}, {'product_id': 27, 'product_name': '알타비스타말벡 -레드와인-', 'product_explanation': '밝은 보랏빛과 깔끔한 목넘김, 강한 아로마, 부드럽고 신선한 탄닌이 특징인 레드와인', 'product_image': 'image_27_1.jpg', 'product_detail_image': 'image_27_2.jpg', 'product_price': 43000, 'product_inventory': 230, 'category': '와인-위스키/레드와인', 'discount': 10, 'create_time': '2021-02-19 02:17:58', 'update_time': '2024-08-12 16:24:31.138925', 'cart_id': None, 'member_id': 10, 'review_star': 4.85, 'product_quanity': 500}, {'product_id': 28, 'product_name': '비네암샤또보드로19 -레드와인-', 'product_explanation': '블랙베리, 블루베리, 후추 등의 아로마를 남기며 우아한 느낌의 탄닌이 특징인 레드와인', 'product_image': 'image_28_1.jpg', 'product_detail_image': 'image_28_2.jpg', 'product_price': 46000, 'product_inventory': 180, 'category': '와인-위스키/레드와인', 'discount': 15, 'create_time': '2021-09-19 15:44:27', 'update_time': '2024-08-12 16:24:31.138932', 'cart_id': None, 'member_id': 1, 'review_star': 4.0, 'product_quanity': 375}, {'product_id': 29, 'product_name': '조쉬 까베르네쇼비뇽 -레드와인-', 'product_explanation': '특유의 진하고 풍부한 아로마와 부드러운 바닐라 오크향이 특징인 레드와인', 'product_image': 'image_29_1.jpg', 'product_detail_image': 'image_29_2.jpg', 'product_price': 36900, 'product_inventory': 150, 'category': '와인-위스키/레드와인', 'discount': 12, 'create_time': '2020-01-07 07:11:01', 'update_time': '2024-08-12 16:24:31.138940', 'cart_id': None, 'member_id': 8, 'review_star': 4.1, 'product_quanity': 400}, {'product_id': 30, 'product_name': '로르나노 끼안띠 셀레지오네 -레드와인-', 'product_explanation': '실크같이 부드러운 탄닌과 입안 가득 찬 바디감이 인상적인 레드와인', 'product_image': 'image_30_1.jpg', 'product_detail_image': 'image_30_2.jpg', 'product_price': 100000, 'product_inventory': 230, 'category': '와인-위스키/레드와인', 'discount': 15, 'create_time': '2021-07-18 02:27:51', 'update_time': '2024-08-12 16:24:31.138948', 'cart_id': None, 'member_id': 5, 'review_star': 4.85, 'product_quanity': 490}, {'product_id': 31, 'product_name': '스톤베이소비뇽블랑 -화이트-로제와인-', 'product_explanation': ' 유명 유튜버 비밀이야가 1일 1명하는 바로 그 화이트-로제와인', 'product_image': 'image_31_1.jpg', 'product_detail_image': 'image_31_2.jpg', 'product_price': 21900, 'product_inventory': 200, 'category': '와인-위스키/화이트-로제와인', 'discount': 15, 'create_time': '2021-12-29 04:27:15', 'update_time': '2024-08-12 16:24:31.138956', 'cart_id': None, 'member_id': 9, 'review_star': 4.2, 'product_quanity': 420}, {'product_id': 32, 'product_name': '코스타알리로제 -화이트-로제와인-', 'product_explanation': '프레쉬하고 향긋한 산딸기 향이 특징인 화이트-로제와인', 'product_image': 'image_32_1.jpg', 'product_detail_image': 'image_32_2.jpg', 'product_price': 17000, 'product_inventory': 220, 'category': '와인-위스키/화이트-로제와인', 'discount': 15, 'create_time': '2023-03-16 07:08:53', 'update_time': '2024-08-12 16:24:31.138964', 'cart_id': None, 'member_id': 5, 'review_star': 4.0, 'product_quanity': 400}, {'product_id': 33, 'product_name': '그로브밀쇼블 -화이트-로제와인-', 'product_explanation': '다채로운 아로마가 인상적인 소비뇽블랑 화이트-로제와인', 'product_image': 'image_33_1.jpg', 'product_detail_image': 'image_33_2.jpg', 'product_price': 29900, 'product_inventory': 250, 'category': '와인-위스키/화이트-로제와인', 'discount': 10, 'create_time': '2020-11-04 11:47:47', 'update_time': '2024-08-12 16:24:31.138971', 'cart_id': None, 'member_id': 9, 'review_star': 4.85, 'product_quanity': 480}, {'product_id': 34, 'product_name': '러시안 잭 피노그리 -화이트-로제와인-', 'product_explanation': '개척시대 영웅들의 정신을 계승한 뉴질랜드 신생 화이트-로제와인', 'product_image': 'image_34_1.jpg', 'product_detail_image': 'image_34_2.jpg', 'product_price': 48400, 'product_inventory': 180, 'category': '와인-위스키/화이트-로제와인', 'discount': 15, 'create_time': '2020-06-05 16:09:26', 'update_time': '2024-08-12 16:24:31.138979', 'cart_id': None, 'member_id': 6, 'review_star': 4.0, 'product_quanity': 390}, {'product_id': 35, 'product_name': '덕혼디코이로제 -화이트-로제와인-', 'product_explanation': '와인애호가들을 위한 럭셔리 데일리 화이트-로제와인', 'product_image': 'image_35_1.jpg', 'product_detail_image': 'image_35_2.jpg', 'product_price': 83000, 'product_inventory': 240, 'category': '와인-위스키/화이트-로제와인', 'discount': 10, 'create_time': '2020-05-08 22:57:39', 'update_time': '2024-08-12 16:24:31.138986', 'cart_id': None, 'member_id': 1, 'review_star': 4.9, 'product_quanity': 500}, {'product_id': 36, 'product_name': '로스바스코스샤도네이 -화이트-로제와인-', 'product_explanation': '샤또 라피트 로칠드 그룹이 칠레에서 만든 로스바스코스의 가성비 갑 화이트-로제와인', 'product_image': 'image_36_1.jpg', 'product_detail_image': 'image_36_2.jpg', 'product_price': 18000, 'product_inventory': 200, 'category': '와인-위스키/화이트-로제와인', 'discount': 10, 'create_time': '2023-04-09 11:16:31', 'update_time': '2024-08-12 16:24:31.138994', 'cart_id': None, 'member_id': 7, 'review_star': 4.2, 'product_quanity': 400}, {'product_id': 37, 'product_name': '코스타알리화이트 -화이트-로제와인-', 'product_explanation': '2사지 포도로 블렌딩해 양조한 오가닉 비건 화이트-로제와인', 'product_image': 'image_37_1.jpg', 'product_detail_image': 'image_37_2.jpg', 'product_price': 17000, 'product_inventory': 210, 'category': '와인-위스키/화이트-로제와인', 'discount': 15, 'create_time': '2021-12-21 15:35:57', 'update_time': '2024-08-12 16:24:31.139001', 'cart_id': None, 'member_id': 4, 'review_star': 4.1, 'product_quanity': 400}, {'product_id': 38, 'product_name': '크레스만모노폴화이트 -화이트-로제와인-', 'product_explanation': '소비뇽 블랑의 고향 보르도 최초의 브랜드 화이트-로제와인', 'product_image': 'image_38_1.jpg', 'product_detail_image': 'image_38_2.jpg', 'product_price': 29900, 'product_inventory': 210, 'category': '와인-위스키/화이트-로제와인', 'discount': 15, 'create_time': '2023-04-05 10:21:02', 'update_time': '2024-08-12 16:24:31.139009', 'cart_id': None, 'member_id': 9, 'review_star': 4.2, 'product_quanity': 400}, {'product_id': 39, 'product_name': '브라운 브라더스 문스트록샤르 -화이트-로제와인-', 'product_explanation': '와인 초심자를 위한 브라운 브라더스의 엔트리 레인지 화이트-로제와인', 'product_image': 'image_39_1.jpg', 'product_detail_image': 'image_39_2.jpg', 'product_price': 18900, 'product_inventory': 240, 'category': '와인-위스키/화이트-로제와인', 'discount': 15, 'create_time': '2021-12-22 23:08:06', 'update_time': '2024-08-12 16:24:31.139017', 'cart_id': None, 'member_id': 3, 'review_star': 4.1, 'product_quanity': 390}, {'product_id': 40, 'product_name': '음mmm! 리슬링 3입 -화이트-로제와인-', 'product_explanation': '리슬링 특유의 풍부한 과일향과 우아한 미네랄 여운이 남는 와인 화이트-로제와인', 'product_image': 'image_40_1.jpg', 'product_detail_image': 'image_40_2.jpg', 'product_price': 29700, 'product_inventory': 230, 'category': '와인-위스키/화이트-로제와인', 'discount': 15, 'create_time': '2023-01-18 16:05:08', 'update_time': '2024-08-12 16:24:31.139024', 'cart_id': None, 'member_id': 3, 'review_star': 4.0, 'product_quanity': 400}, {'product_id': 41, 'product_name': '빙그레 바나나맛 우유 240mL X 4개 -우유_두유-', 'product_explanation': '자꾸만 생각나는 단지 우유_두유', 'product_image': 'image_41_1.jpg', 'product_detail_image': 'image_41_2.jpg', 'product_price': 5800, 'product_inventory': 210, 'category': '유제품/우유_두유', 'discount': 25, 'create_time': '2020-01-19 21:04:45', 'update_time': '2024-08-12 16:24:31.139042', 'cart_id': None, 'member_id': 6, 'review_star': 4.8, 'product_quanity': 490}, {'product_id': 42, 'product_name': '서울우유 삼각 커피 우유 4개 -우유_두유-', 'product_explanation': '추억의 커피 우유_두유', 'product_image': 'image_42_1.jpg', 'product_detail_image': 'image_42_2.jpg', 'product_price': 4280, 'product_inventory': 160, 'category': '유제품/우유_두유', 'discount': 25, 'create_time': '2022-06-24 23:46:31', 'update_time': '2024-08-12 16:24:31.139050', 'cart_id': None, 'member_id': 8, 'review_star': 4.7, 'product_quanity': 470}, {'product_id': 43, 'product_name': '연세우유 전용목장 우유 900mL -우유_두유-', 'product_explanation': '본연의 맛이 담긴 온 가족 우유_두유', 'product_image': 'image_43_1.jpg', 'product_detail_image': 'image_43_2.jpg', 'product_price': 2580, 'product_inventory': 200, 'category': '유제품/우유_두유', 'discount': 25, 'create_time': '2021-01-23 05:58:05', 'update_time': '2024-08-12 16:24:31.139057', 'cart_id': None, 'member_id': 6, 'review_star': 4.0, 'product_quanity': 390}, {'product_id': 44, 'product_name': '베지밀 달콤한 B 두유 190mL X 24팩 -우유_두유-', 'product_explanation': '남녀노소 좋아하는 달콤한 우유_두유', 'product_image': 'image_44_1.jpg', 'product_detail_image': 'image_44_2.jpg', 'product_price': 18900, 'product_inventory': 190, 'category': '유제품/우유_두유', 'discount': 30, 'create_time': '2022-11-18 04:45:52', 'update_time': '2024-08-12 16:24:31.139065', 'cart_id': None, 'member_id': 10, 'review_star': 4.1, 'product_quanity': 400}, {'product_id': 45, 'product_name': '매일두유 고단백 190mL X 12팩 -우유_두유-', 'product_explanation': '달걀 2캐의 단백질이 한 팩에 들어간 우유_두유', 'product_image': 'image_45_1.jpg', 'product_detail_image': 'image_45_2.jpg', 'product_price': 9980, 'product_inventory': 180, 'category': '유제품/우유_두유', 'discount': 30, 'create_time': '2021-04-02 00:32:16', 'update_time': '2024-08-12 16:24:31.139078', 'cart_id': None, 'member_id': 3, 'review_star': 4.2, 'product_quanity': 410}, {'product_id': 46, 'product_name': '제주 목초 우유 무항생제 750mL -우유_두유-', 'product_explanation': '맑고 깔끔한 맛을 가진 목초 우유_두유', 'product_image': 'image_46_1.jpg', 'product_detail_image': 'image_46_2.jpg', 'product_price': 3280, 'product_inventory': 220, 'category': '유제품/우유_두유', 'discount': 35, 'create_time': '2020-01-30 04:46:42', 'update_time': '2024-08-12 16:24:31.139087', 'cart_id': None, 'member_id': 10, 'review_star': 4.1, 'product_quanity': 395}, {'product_id': 47, 'product_name': '어메이징 오트 바리스타 950mL -우유_두유-', 'product_explanation': '커피와 어울리는 진한 바디감이 있는 우유_두유', 'product_image': 'image_47_1.jpg', 'product_detail_image': 'image_47_2.jpg', 'product_price': 4580, 'product_inventory': 200, 'category': '유제품/우유_두유', 'discount': 25, 'create_time': '2023-11-17 16:51:34', 'update_time': '2024-08-12 16:24:31.139095', 'cart_id': None, 'member_id': 6, 'review_star': 4.0, 'product_quanity': 390}, {'product_id': 48, 'product_name': '소이퀸 진한 콩물 500mL -우유_두유-', 'product_explanation': '두유로도 국물로도 훌륭한 우유_두유', 'product_image': 'image_48_1.jpg', 'product_detail_image': 'image_48_2.jpg', 'product_price': 5800, 'product_inventory': 220, 'category': '유제품/우유_두유', 'discount': 25, 'create_time': '2022-08-23 07:00:29', 'update_time': '2024-08-12 16:24:31.139103', 'cart_id': None, 'member_id': 5, 'review_star': 4.1, 'product_quanity': 390}, {'product_id': 49, 'product_name': '후유아 서리태콩물두유 2종 -우유_두유-', 'product_explanation': '서리태의 고소한 맛이 가득 있는 우유_두유', 'product_image': 'image_49_1.jpg', 'product_detail_image': 'image_49_2.jpg', 'product_price': 3450, 'product_inventory': 210, 'category': '유제품/우유_두유', 'discount': 30, 'create_time': '2021-07-19 16:25:10', 'update_time': '2024-08-12 16:24:31.139111', 'cart_id': None, 'member_id': 2, 'review_star': 4.0, 'product_quanity': 370}, {'product_id': 50, 'product_name': '맑은물에 연천콩 콩물 100% 특급콩 2종 -우유_두유-', 'product_explanation': '연천콩을 곱게 갈아 만든 콩물 우유_두유', 'product_image': 'image_50_1.jpg', 'product_detail_image': 'image_50_2.jpg', 'product_price': 3800, 'product_inventory': 220, 'category': '유제품/우유_두유', 'discount': 25, 'create_time': '2023-01-09 04:43:14', 'update_time': '2024-08-12 16:24:31.139118', 'cart_id': None, 'member_id': 7, 'review_star': 4.5, 'product_quanity': 450}, {'product_id': 51, 'product_name': '하겐다즈 파인트 클래식 아이스크림 7종 -아이스크림-', 'product_explanation': '고르는 재미와 나누는 기쁨이 있는 아이스크림', 'product_image': 'image_51_1.jpg', 'product_detail_image': 'image_51_2.jpg', 'product_price': 15500, 'product_inventory': 240, 'category': '유제품/아이스크림', 'discount': 15, 'create_time': '2021-09-30 12:32:49', 'update_time': '2024-08-12 16:24:31.139126', 'cart_id': None, 'member_id': 5, 'review_star': 4.9, 'product_quanity': 490}, {'product_id': 52, 'product_name': '라라스윗 칼로리가 가벼운 아이스크림 474mL 7종 -아이스크림-', 'product_explanation': '마음 놓고 즐기는 달콤한 아이스크림', 'product_image': 'image_52_1.jpg', 'product_detail_image': 'image_52_2.jpg', 'product_price': 7900, 'product_inventory': 210, 'category': '유제품/아이스크림', 'discount': 30, 'create_time': '2022-09-19 11:12:40', 'update_time': '2024-08-12 16:24:31.139133', 'cart_id': None, 'member_id': 7, 'review_star': 4.0, 'product_quanity': 390}, {'product_id': 53, 'product_name': '나뚜루 오리지널 파인트 9종 -아이스크림-', 'product_explanation': '순수한 달콤함을 오롯이 담은 아이스크림', 'product_image': 'image_53_1.jpg', 'product_detail_image': 'image_53_2.jpg', 'product_price': 14900, 'product_inventory': 210, 'category': '유제품/아이스크림', 'discount': 25, 'create_time': '2023-01-15 12:54:28', 'update_time': '2024-08-12 16:24:31.139141', 'cart_id': None, 'member_id': 10, 'review_star': 4.5, 'product_quanity': 450}, {'product_id': 54, 'product_name': '빙그레 비비빅 8입 -아이스크림-', 'product_explanation': '당통팥을 품은 추억의 아이스크림', 'product_image': 'image_54_1.jpg', 'product_detail_image': 'image_54_2.jpg', 'product_price': 5800, 'product_inventory': 200, 'category': '유제품/아이스크림', 'discount': 25, 'create_time': '2022-08-06 23:08:20', 'update_time': '2024-08-12 16:24:31.139149', 'cart_id': None, 'member_id': 3, 'review_star': 4.2, 'product_quanity': 420}, {'product_id': 55, 'product_name': '빙그레 메로나 8입 -아이스크림-', 'product_explanation': '초록빛 산뜻함을 전하는 아이스크림', 'product_image': 'image_55_1.jpg', 'product_detail_image': 'image_55_2.jpg', 'product_price': 5800, 'product_inventory': 210, 'category': '유제품/아이스크림', 'discount': 25, 'create_time': '2022-10-06 23:07:15', 'update_time': '2024-08-12 16:24:31.139161', 'cart_id': None, 'member_id': 5, 'review_star': 4.9, 'product_quanity': 490}, {'product_id': 56, 'product_name': '투게더 바닐라 아이스크림 -아이스크림-', 'product_explanation': '꾸준히 사랑받는 스테디셀러 아이스크림', 'product_image': 'image_56_1.jpg', 'product_detail_image': 'image_56_2.jpg', 'product_price': 5500, 'product_inventory': 210, 'category': '유제품/아이스크림', 'discount': 30, 'create_time': '2021-04-09 10:27:55', 'update_time': '2024-08-12 16:24:31.139169', 'cart_id': None, 'member_id': 2, 'review_star': 4.1, 'product_quanity': 400}, {'product_id': 57, 'product_name': '빙그레 따옴바 8개입 5종 -아이스크림-', 'product_explanation': '사각사각 상큼하게 즐기는 아이스크림', 'product_image': 'image_57_1.jpg', 'product_detail_image': 'image_57_2.jpg', 'product_price': 6400, 'product_inventory': 200, 'category': '유제품/아이스크림', 'discount': 25, 'create_time': '2020-06-26 23:13:29', 'update_time': '2024-08-12 16:24:31.139176', 'cart_id': None, 'member_id': 8, 'review_star': 4.0, 'product_quanity': 400}, {'product_id': 58, 'product_name': '페레로 아이스크림 스틱 바 70mL 2종 -아이스크림-', 'product_explanation': '진한 달콤함을 입힌 아이스크림', 'product_image': 'image_58_1.jpg', 'product_detail_image': 'image_58_2.jpg', 'product_price': 5000, 'product_inventory': 210, 'category': '유제품/아이스크림', 'discount': 25, 'create_time': '2023-01-23 19:48:04', 'update_time': '2024-08-12 16:24:31.139184', 'cart_id': None, 'member_id': 1, 'review_star': 4.0, 'product_quanity': 390}, {'product_id': 59, 'product_name': '상하목장 파인트 아이스크림 474mL 3종 -아이스크림-', 'product_explanation': '부드럽고 쫀득한 질감이 매력적인 아이스크림', 'product_image': 'image_59_1.jpg', 'product_detail_image': 'image_59_2.jpg', 'product_price': 13500, 'product_inventory': 220, 'category': '유제품/아이스크림', 'discount': 30, 'create_time': '2023-07-06 06:31:33', 'update_time': '2024-08-12 16:24:31.139191', 'cart_id': None, 'member_id': 2, 'review_star': 4.0, 'product_quanity': 390}, {'product_id': 60, 'product_name': '끌레도르 카토닝 바 2입 4종 -아이스크림-', 'product_explanation': '부드러운 풍미와 진한 달콤함을 가진 아이스크림', 'product_image': 'image_60_1.jpg', 'product_detail_image': 'image_60_2.jpg', 'product_price': 8600, 'product_inventory': 210, 'category': '유제품/아이스크림', 'discount': 25, 'create_time': '2022-08-28 03:54:06', 'update_time': '2024-08-12 16:24:31.139199', 'cart_id': None, 'member_id': 3, 'review_star': 4.0, 'product_quanity': 400}, {'product_id': 61, 'product_name': '한우 국거리 300g -소고기-', 'product_explanation': '바로 조리하는 간편 국거리 소고기', 'product_image': 'image_61_1.jpg', 'product_detail_image': 'image_61_2.jpg', 'product_price': 14900, 'product_inventory': 220, 'category': '정육-가공육/소고기', 'discount': 50, 'create_time': '2023-06-22 04:49:14', 'update_time': '2024-08-12 16:24:31.139207', 'cart_id': None, 'member_id': 2, 'review_star': 4.8, 'product_quanity': 500}, {'product_id': 62, 'product_name': '한우 등심 300g -소고기-', 'product_explanation': '부담없이 만나는 한우 등심 소고기', 'product_image': 'image_62_1.jpg', 'product_detail_image': 'image_62_2.jpg', 'product_price': 41900, 'product_inventory': 180, 'category': '정육-가공육/소고기', 'discount': 45, 'create_time': '2023-05-20 14:49:07', 'update_time': '2024-08-12 16:24:31.139214', 'cart_id': None, 'member_id': 2, 'review_star': 4.5, 'product_quanity': 470}, {'product_id': 63, 'product_name': '한우 불고기용 300g -소고기-', 'product_explanation': '야들야들한 식감이 일품인 소고기', 'product_image': 'image_63_1.jpg', 'product_detail_image': 'image_63_2.jpg', 'product_price': 14900, 'product_inventory': 210, 'category': '정육-가공육/소고기', 'discount': 55, 'create_time': '2023-06-22 19:49:29', 'update_time': '2024-08-12 16:24:31.139222', 'cart_id': None, 'member_id': 2, 'review_star': 4.7, 'product_quanity': 490}, {'product_id': 64, 'product_name': '미국산 우삼겹 돌돌말이 1kg -소고기-', 'product_explanation': '다채롭게 활용하는 대용량 우삼겹 소고기', 'product_image': 'image_64_1.jpg', 'product_detail_image': 'image_64_2.jpg', 'product_price': 23900, 'product_inventory': 170, 'category': '정육-가공육/소고기', 'discount': 40, 'create_time': '2022-08-01 17:23:57', 'update_time': '2024-08-12 16:24:31.139229', 'cart_id': None, 'member_id': 10, 'review_star': 4.6, 'product_quanity': 480}, {'product_id': 65, 'product_name': '호주산 목초육 안심 스테이크 250g -소고기-', 'product_explanation': '목초를 먹고 자란 담백한 소고기', 'product_image': 'image_65_1.jpg', 'product_detail_image': 'image_65_2.jpg', 'product_price': 22900, 'product_inventory': 150, 'category': '정육-가공육/소고기', 'discount': 35, 'create_time': '2023-02-13 11:27:22', 'update_time': '2024-08-12 16:24:31.139237', 'cart_id': None, 'member_id': 10, 'review_star': 4.3, 'product_quanity': 450}, {'product_id': 66, 'product_name': '무항생제 소고기 다짐육 200g -소고기-', 'product_explanation': '간편하게 요리할 수 있는 소고기', 'product_image': 'image_66_1.jpg', 'product_detail_image': 'image_66_2.jpg', 'product_price': 11000, 'product_inventory': 190, 'category': '정육-가공육/소고기', 'discount': 30, 'create_time': '2021-05-03 19:33:33', 'update_time': '2024-08-12 16:24:31.139244', 'cart_id': None, 'member_id': 2, 'review_star': 4.2, 'product_quanity': 430}, {'product_id': 67, 'product_name': '차돌박이 150g -소고기-', 'product_explanation': '야들야들 고소한 지방의 맛을 가진 소고기', 'product_image': 'image_67_1.jpg', 'product_detail_image': 'image_67_2.jpg', 'product_price': 11200, 'product_inventory': 180, 'category': '정육-가공육/소고기', 'discount': 45, 'create_time': '2022-11-15 08:58:56', 'update_time': '2024-08-12 16:24:31.139257', 'cart_id': None, 'member_id': 1, 'review_star': 4.4, 'product_quanity': 460}, {'product_id': 68, 'product_name': '샤브샤브 300g -소고기-', 'product_explanation': '야들야들한 샤브샤브용 소고기', 'product_image': 'image_68_1.jpg', 'product_detail_image': 'image_68_2.jpg', 'product_price': 14200, 'product_inventory': 160, 'category': '정육-가공육/소고기', 'discount': 50, 'create_time': '2020-04-29 19:44:24', 'update_time': '2024-08-12 16:24:31.139265', 'cart_id': None, 'member_id': 2, 'review_star': 4.7, 'product_quanity': 490}, {'product_id': 69, 'product_name': '치마살 200g -소고기-', 'product_explanation': '쫄깃하게 살아나는 감칠맛을 가진 소고기', 'product_image': 'image_69_1.jpg', 'product_detail_image': 'image_69_2.jpg', 'product_price': 18200, 'product_inventory': 170, 'category': '정육-가공육/소고기', 'discount': 40, 'create_time': '2023-04-24 11:36:49', 'update_time': '2024-08-12 16:24:31.139272', 'cart_id': None, 'member_id': 3, 'review_star': 4.5, 'product_quanity': 470}, {'product_id': 70, 'product_name': '갈비살 200g -소고기-', 'product_explanation': '씹을수록 고소하고 쫄깃한 소고기', 'product_image': 'image_70_1.jpg', 'product_detail_image': 'image_70_2.jpg', 'product_price': 17800, 'product_inventory': 160, 'category': '정육-가공육/소고기', 'discount': 50, 'create_time': '2020-09-18 21:47:42', 'update_time': '2024-08-12 16:24:31.139280', 'cart_id': None, 'member_id': 2, 'review_star': 4.6, 'product_quanity': 480}, {'product_id': 71, 'product_name': '한돈 급냉 삼겹살 600g -돼지고기-', 'product_explanation': '한입 크기로 손질한 냉동 삼겹 돼지고기', 'product_image': 'image_71_1.jpg', 'product_detail_image': 'image_71_2.jpg', 'product_price': 16990, 'product_inventory': 240, 'category': '정육-가공육/돼지고기', 'discount': 40, 'create_time': '2021-03-24 00:29:00', 'update_time': '2024-08-12 16:24:31.139287', 'cart_id': None, 'member_id': 9, 'review_star': 4.85, 'product_quanity': 450}, {'product_id': 72, 'product_name': '한돈 등갈비 800g -돼지고기-', 'product_explanation': '온 가족이 함께 즐기는 질 좋은 풍미의 돼지고기', 'product_image': 'image_72_1.jpg', 'product_detail_image': 'image_72_2.jpg', 'product_price': 28900, 'product_inventory': 100, 'category': '정육-가공육/돼지고기', 'discount': 15, 'create_time': '2022-02-12 08:50:03', 'update_time': '2024-08-12 16:24:31.139307', 'cart_id': None, 'member_id': 2, 'review_star': 4.75, 'product_quanity': 440}, {'product_id': 73, 'product_name': '제주 1등급 암퇘지 목살 2종 -돼지고기-', 'product_explanation': '담백한 풍미와 쫄깃한 식감의 돼지고기', 'product_image': 'image_73_1.jpg', 'product_detail_image': 'image_73_2.jpg', 'product_price': 15500, 'product_inventory': 120, 'category': '정육-가공육/돼지고기', 'discount': 10, 'create_time': '2022-12-05 09:36:31', 'update_time': '2024-08-12 16:24:31.139314', 'cart_id': None, 'member_id': 9, 'review_star': 4.5, 'product_quanity': 450}, {'product_id': 74, 'product_name': '멕시코 듀록 가브리살 구이용 300g -돼지고기-', 'product_explanation': '부드럽게 즐기는 고소한 풍미의 돼지고기', 'product_image': 'image_74_1.jpg', 'product_detail_image': 'image_74_2.jpg', 'product_price': 11000, 'product_inventory': 180, 'category': '정육-가공육/돼지고기', 'discount': 25, 'create_time': '2022-12-25 02:02:44', 'update_time': '2024-08-12 16:24:31.139322', 'cart_id': None, 'member_id': 4, 'review_star': 4.6, 'product_quanity': 470}, {'product_id': 75, 'product_name': '멕시코 듀록 항정살 구이용 300g -돼지고기-', 'product_explanation': '부드러운 육질과 풍미의 돼지고기', 'product_image': 'image_75_1.jpg', 'product_detail_image': 'image_75_2.jpg', 'product_price': 11990, 'product_inventory': 150, 'category': '정육-가공육/돼지고기', 'discount': 15, 'create_time': '2023-09-30 11:04:14', 'update_time': '2024-08-12 16:24:31.139329', 'cart_id': None, 'member_id': 9, 'review_star': 4.8, 'product_quanity': 490}, {'product_id': 76, 'product_name': '무항생제 1등급 한돈 다짐육 2종', 'product_explanation': '깨끗한 품질, 다양한 쓰임새의 돼지고기', 'product_image': 'image_76_1.jpg', 'product_detail_image': 'image_76_2.jpg', 'product_price': 3990, 'product_inventory': 130, 'category': '정육-가공육/돼지고기', 'discount': 20, 'create_time': '2021-07-28 17:05:24', 'update_time': '2024-08-12 16:24:31.139337', 'cart_id': None, 'member_id': 3, 'review_star': 4.0, 'product_quanity': 440}, {'product_id': 77, 'product_name': '무항생제 1등급 한돈 등심 카레용 2종 -돼지고기-', 'product_explanation': '안전함에 간편함까지 갖춘 돼지고기', 'product_image': 'image_77_1.jpg', 'product_detail_image': 'image_77_2.jpg', 'product_price': 5990, 'product_inventory': 190, 'category': '정육-가공육/돼지고기', 'discount': 25, 'create_time': '2021-06-26 15:59:07', 'update_time': '2024-08-12 16:24:31.139344', 'cart_id': None, 'member_id': 2, 'review_star': 4.5, 'product_quanity': 470}, {'product_id': 78, 'product_name': '무항생제 1등급 한돈 앞다리 3종 -돼지고기-', 'product_explanation': '합리적인 가격과 맛을 모두 갖춘 돼지고기', 'product_image': 'image_78_1.jpg', 'product_detail_image': 'image_78_2.jpg', 'product_price': 6390, 'product_inventory': 250, 'category': '정육-가공육/돼지고기', 'discount': 10, 'create_time': '2020-04-18 16:16:30', 'update_time': '2024-08-12 16:24:31.139352', 'cart_id': None, 'member_id': 3, 'review_star': 4.9, 'product_quanity': 500}, {'product_id': 79, 'product_name': '한돈 찜갈비 800g -돼지고기-', 'product_explanation': '온 가족이 둘러앉아 즐기는 넉넉한 돼지고기', 'product_image': 'image_79_1.jpg', 'product_detail_image': 'image_79_2.jpg', 'product_price': 15900, 'product_inventory': 210, 'category': '정육-가공육/돼지고기', 'discount': 20, 'create_time': '2020-02-02 19:17:21', 'update_time': '2024-08-12 16:24:31.139360', 'cart_id': None, 'member_id': 7, 'review_star': 4.4, 'product_quanity': 460}, {'product_id': 80, 'product_name': '하이포크 그때 그 뒷고기 뽈항정살 500g -돼지고기-', 'product_explanation': '육즙 가즉 즐기는 쫄깃한 식감의 돼지고기', 'product_image': 'image_80_1.jpg', 'product_detail_image': 'image_80_2.jpg', 'product_price': 13000, 'product_inventory': 150, 'category': '정육-가공육/돼지고기', 'discount': 30, 'create_time': '2022-02-24 05:45:20', 'update_time': '2024-08-12 16:24:31.139368', 'cart_id': None, 'member_id': 10, 'review_star': 4.8, 'product_quanity': 460}]\n"
          ]
        }
      ],
      "source": [
        "# json data load (products.json)\n",
        "import json\n",
        "\n",
        "with open('/content/drive/MyDrive/Kakao_Tech_BootCamp/Team Mission/Dummy_data/products.json', 'r') as file:\n",
        "  products = json.load(file)\n",
        "\n",
        "print(products)"
      ]
    },
    {
      "cell_type": "code",
      "execution_count": 19,
      "metadata": {
        "colab": {
          "base_uri": "https://localhost:8080/",
          "height": 669
        },
        "id": "POJ67131YWeP",
        "outputId": "e593f5da-869b-48aa-c7b3-2508a12a8705"
      },
      "outputs": [
        {
          "data": {
            "application/vnd.google.colaboratory.intrinsic+json": {
              "repr_error": "Out of range float values are not JSON compliant: nan",
              "type": "dataframe",
              "variable_name": "products_df"
            },
            "text/html": [
              "\n",
              "  <div id=\"df-9b9d0aec-9f5f-4c4c-ab3d-8bf808142832\" class=\"colab-df-container\">\n",
              "    <div>\n",
              "<style scoped>\n",
              "    .dataframe tbody tr th:only-of-type {\n",
              "        vertical-align: middle;\n",
              "    }\n",
              "\n",
              "    .dataframe tbody tr th {\n",
              "        vertical-align: top;\n",
              "    }\n",
              "\n",
              "    .dataframe thead th {\n",
              "        text-align: right;\n",
              "    }\n",
              "</style>\n",
              "<table border=\"1\" class=\"dataframe\">\n",
              "  <thead>\n",
              "    <tr style=\"text-align: right;\">\n",
              "      <th></th>\n",
              "      <th>product_id</th>\n",
              "      <th>product_name</th>\n",
              "      <th>product_explanation</th>\n",
              "      <th>product_image</th>\n",
              "      <th>product_detail_image</th>\n",
              "      <th>product_price</th>\n",
              "      <th>product_inventory</th>\n",
              "      <th>category</th>\n",
              "      <th>discount</th>\n",
              "      <th>create_time</th>\n",
              "      <th>update_time</th>\n",
              "      <th>cart_id</th>\n",
              "      <th>member_id</th>\n",
              "      <th>review_star</th>\n",
              "      <th>product_quanity</th>\n",
              "    </tr>\n",
              "  </thead>\n",
              "  <tbody>\n",
              "    <tr>\n",
              "      <th>0</th>\n",
              "      <td>1</td>\n",
              "      <td>밀크 클래식 쌀과자 240g -과자-</td>\n",
              "      <td>진한 우유향이 매력적인 쌀과자</td>\n",
              "      <td>image_1_1.jpg</td>\n",
              "      <td>image_1_2.jpg</td>\n",
              "      <td>4500</td>\n",
              "      <td>110</td>\n",
              "      <td>간식/과자</td>\n",
              "      <td>8</td>\n",
              "      <td>2023-12-19 20:25:28</td>\n",
              "      <td>2024-08-12 16:24:31.138675</td>\n",
              "      <td>None</td>\n",
              "      <td>4</td>\n",
              "      <td>4.80</td>\n",
              "      <td>450</td>\n",
              "    </tr>\n",
              "    <tr>\n",
              "      <th>1</th>\n",
              "      <td>2</td>\n",
              "      <td>새우깡 미니팩 30g X 4입 -과자-</td>\n",
              "      <td>가볍게 증기는 고소한 새우맛 과자</td>\n",
              "      <td>image_2_1.jpg</td>\n",
              "      <td>image_2_2.jpg</td>\n",
              "      <td>2250</td>\n",
              "      <td>120</td>\n",
              "      <td>간식/과자</td>\n",
              "      <td>10</td>\n",
              "      <td>2022-12-31 23:14:21</td>\n",
              "      <td>2024-08-12 16:24:31.138699</td>\n",
              "      <td>None</td>\n",
              "      <td>3</td>\n",
              "      <td>4.90</td>\n",
              "      <td>480</td>\n",
              "    </tr>\n",
              "    <tr>\n",
              "      <th>2</th>\n",
              "      <td>3</td>\n",
              "      <td>마카로니 과자 305g -과자-</td>\n",
              "      <td>자꾸만 손이 가는 추억의 마카로니 과자</td>\n",
              "      <td>image_3_1.jpg</td>\n",
              "      <td>image_3_2.jpg</td>\n",
              "      <td>3680</td>\n",
              "      <td>130</td>\n",
              "      <td>간식/과자</td>\n",
              "      <td>10</td>\n",
              "      <td>2021-03-28 21:57:51</td>\n",
              "      <td>2024-08-12 16:24:31.138708</td>\n",
              "      <td>None</td>\n",
              "      <td>6</td>\n",
              "      <td>4.75</td>\n",
              "      <td>400</td>\n",
              "    </tr>\n",
              "    <tr>\n",
              "      <th>3</th>\n",
              "      <td>4</td>\n",
              "      <td>Lay`s 감자칩 5종 -과자-</td>\n",
              "      <td>세계인의 사랑을 받는 감자맛 과자</td>\n",
              "      <td>image_4_1.jpg</td>\n",
              "      <td>image_4_2.jpg</td>\n",
              "      <td>4980</td>\n",
              "      <td>200</td>\n",
              "      <td>간식/과자</td>\n",
              "      <td>10</td>\n",
              "      <td>2023-09-11 06:06:23</td>\n",
              "      <td>2024-08-12 16:24:31.138716</td>\n",
              "      <td>None</td>\n",
              "      <td>3</td>\n",
              "      <td>4.50</td>\n",
              "      <td>470</td>\n",
              "    </tr>\n",
              "    <tr>\n",
              "      <th>4</th>\n",
              "      <td>5</td>\n",
              "      <td>카스타드 오리지널 230g -과자-</td>\n",
              "      <td>촉촉한 빵 속 부드러운 크림이 들어간 과자</td>\n",
              "      <td>image_5_1.jpg</td>\n",
              "      <td>image_5_2.jpg</td>\n",
              "      <td>4780</td>\n",
              "      <td>120</td>\n",
              "      <td>간식/과자</td>\n",
              "      <td>9</td>\n",
              "      <td>2022-06-23 12:11:31</td>\n",
              "      <td>2024-08-12 16:24:31.138724</td>\n",
              "      <td>None</td>\n",
              "      <td>7</td>\n",
              "      <td>4.70</td>\n",
              "      <td>370</td>\n",
              "    </tr>\n",
              "    <tr>\n",
              "      <th>...</th>\n",
              "      <td>...</td>\n",
              "      <td>...</td>\n",
              "      <td>...</td>\n",
              "      <td>...</td>\n",
              "      <td>...</td>\n",
              "      <td>...</td>\n",
              "      <td>...</td>\n",
              "      <td>...</td>\n",
              "      <td>...</td>\n",
              "      <td>...</td>\n",
              "      <td>...</td>\n",
              "      <td>...</td>\n",
              "      <td>...</td>\n",
              "      <td>...</td>\n",
              "      <td>...</td>\n",
              "    </tr>\n",
              "    <tr>\n",
              "      <th>75</th>\n",
              "      <td>76</td>\n",
              "      <td>무항생제 1등급 한돈 다짐육 2종</td>\n",
              "      <td>깨끗한 품질, 다양한 쓰임새의 돼지고기</td>\n",
              "      <td>image_76_1.jpg</td>\n",
              "      <td>image_76_2.jpg</td>\n",
              "      <td>3990</td>\n",
              "      <td>130</td>\n",
              "      <td>정육-가공육/돼지고기</td>\n",
              "      <td>20</td>\n",
              "      <td>2021-07-28 17:05:24</td>\n",
              "      <td>2024-08-12 16:24:31.139337</td>\n",
              "      <td>None</td>\n",
              "      <td>3</td>\n",
              "      <td>4.00</td>\n",
              "      <td>440</td>\n",
              "    </tr>\n",
              "    <tr>\n",
              "      <th>76</th>\n",
              "      <td>77</td>\n",
              "      <td>무항생제 1등급 한돈 등심 카레용 2종 -돼지고기-</td>\n",
              "      <td>안전함에 간편함까지 갖춘 돼지고기</td>\n",
              "      <td>image_77_1.jpg</td>\n",
              "      <td>image_77_2.jpg</td>\n",
              "      <td>5990</td>\n",
              "      <td>190</td>\n",
              "      <td>정육-가공육/돼지고기</td>\n",
              "      <td>25</td>\n",
              "      <td>2021-06-26 15:59:07</td>\n",
              "      <td>2024-08-12 16:24:31.139344</td>\n",
              "      <td>None</td>\n",
              "      <td>2</td>\n",
              "      <td>4.50</td>\n",
              "      <td>470</td>\n",
              "    </tr>\n",
              "    <tr>\n",
              "      <th>77</th>\n",
              "      <td>78</td>\n",
              "      <td>무항생제 1등급 한돈 앞다리 3종 -돼지고기-</td>\n",
              "      <td>합리적인 가격과 맛을 모두 갖춘 돼지고기</td>\n",
              "      <td>image_78_1.jpg</td>\n",
              "      <td>image_78_2.jpg</td>\n",
              "      <td>6390</td>\n",
              "      <td>250</td>\n",
              "      <td>정육-가공육/돼지고기</td>\n",
              "      <td>10</td>\n",
              "      <td>2020-04-18 16:16:30</td>\n",
              "      <td>2024-08-12 16:24:31.139352</td>\n",
              "      <td>None</td>\n",
              "      <td>3</td>\n",
              "      <td>4.90</td>\n",
              "      <td>500</td>\n",
              "    </tr>\n",
              "    <tr>\n",
              "      <th>78</th>\n",
              "      <td>79</td>\n",
              "      <td>한돈 찜갈비 800g -돼지고기-</td>\n",
              "      <td>온 가족이 둘러앉아 즐기는 넉넉한 돼지고기</td>\n",
              "      <td>image_79_1.jpg</td>\n",
              "      <td>image_79_2.jpg</td>\n",
              "      <td>15900</td>\n",
              "      <td>210</td>\n",
              "      <td>정육-가공육/돼지고기</td>\n",
              "      <td>20</td>\n",
              "      <td>2020-02-02 19:17:21</td>\n",
              "      <td>2024-08-12 16:24:31.139360</td>\n",
              "      <td>None</td>\n",
              "      <td>7</td>\n",
              "      <td>4.40</td>\n",
              "      <td>460</td>\n",
              "    </tr>\n",
              "    <tr>\n",
              "      <th>79</th>\n",
              "      <td>80</td>\n",
              "      <td>하이포크 그때 그 뒷고기 뽈항정살 500g -돼지고기-</td>\n",
              "      <td>육즙 가즉 즐기는 쫄깃한 식감의 돼지고기</td>\n",
              "      <td>image_80_1.jpg</td>\n",
              "      <td>image_80_2.jpg</td>\n",
              "      <td>13000</td>\n",
              "      <td>150</td>\n",
              "      <td>정육-가공육/돼지고기</td>\n",
              "      <td>30</td>\n",
              "      <td>2022-02-24 05:45:20</td>\n",
              "      <td>2024-08-12 16:24:31.139368</td>\n",
              "      <td>None</td>\n",
              "      <td>10</td>\n",
              "      <td>4.80</td>\n",
              "      <td>460</td>\n",
              "    </tr>\n",
              "  </tbody>\n",
              "</table>\n",
              "<p>80 rows × 15 columns</p>\n",
              "</div>\n",
              "    <div class=\"colab-df-buttons\">\n",
              "\n",
              "  <div class=\"colab-df-container\">\n",
              "    <button class=\"colab-df-convert\" onclick=\"convertToInteractive('df-9b9d0aec-9f5f-4c4c-ab3d-8bf808142832')\"\n",
              "            title=\"Convert this dataframe to an interactive table.\"\n",
              "            style=\"display:none;\">\n",
              "\n",
              "  <svg xmlns=\"http://www.w3.org/2000/svg\" height=\"24px\" viewBox=\"0 -960 960 960\">\n",
              "    <path d=\"M120-120v-720h720v720H120Zm60-500h600v-160H180v160Zm220 220h160v-160H400v160Zm0 220h160v-160H400v160ZM180-400h160v-160H180v160Zm440 0h160v-160H620v160ZM180-180h160v-160H180v160Zm440 0h160v-160H620v160Z\"/>\n",
              "  </svg>\n",
              "    </button>\n",
              "\n",
              "  <style>\n",
              "    .colab-df-container {\n",
              "      display:flex;\n",
              "      gap: 12px;\n",
              "    }\n",
              "\n",
              "    .colab-df-convert {\n",
              "      background-color: #E8F0FE;\n",
              "      border: none;\n",
              "      border-radius: 50%;\n",
              "      cursor: pointer;\n",
              "      display: none;\n",
              "      fill: #1967D2;\n",
              "      height: 32px;\n",
              "      padding: 0 0 0 0;\n",
              "      width: 32px;\n",
              "    }\n",
              "\n",
              "    .colab-df-convert:hover {\n",
              "      background-color: #E2EBFA;\n",
              "      box-shadow: 0px 1px 2px rgba(60, 64, 67, 0.3), 0px 1px 3px 1px rgba(60, 64, 67, 0.15);\n",
              "      fill: #174EA6;\n",
              "    }\n",
              "\n",
              "    .colab-df-buttons div {\n",
              "      margin-bottom: 4px;\n",
              "    }\n",
              "\n",
              "    [theme=dark] .colab-df-convert {\n",
              "      background-color: #3B4455;\n",
              "      fill: #D2E3FC;\n",
              "    }\n",
              "\n",
              "    [theme=dark] .colab-df-convert:hover {\n",
              "      background-color: #434B5C;\n",
              "      box-shadow: 0px 1px 3px 1px rgba(0, 0, 0, 0.15);\n",
              "      filter: drop-shadow(0px 1px 2px rgba(0, 0, 0, 0.3));\n",
              "      fill: #FFFFFF;\n",
              "    }\n",
              "  </style>\n",
              "\n",
              "    <script>\n",
              "      const buttonEl =\n",
              "        document.querySelector('#df-9b9d0aec-9f5f-4c4c-ab3d-8bf808142832 button.colab-df-convert');\n",
              "      buttonEl.style.display =\n",
              "        google.colab.kernel.accessAllowed ? 'block' : 'none';\n",
              "\n",
              "      async function convertToInteractive(key) {\n",
              "        const element = document.querySelector('#df-9b9d0aec-9f5f-4c4c-ab3d-8bf808142832');\n",
              "        const dataTable =\n",
              "          await google.colab.kernel.invokeFunction('convertToInteractive',\n",
              "                                                    [key], {});\n",
              "        if (!dataTable) return;\n",
              "\n",
              "        const docLinkHtml = 'Like what you see? Visit the ' +\n",
              "          '<a target=\"_blank\" href=https://colab.research.google.com/notebooks/data_table.ipynb>data table notebook</a>'\n",
              "          + ' to learn more about interactive tables.';\n",
              "        element.innerHTML = '';\n",
              "        dataTable['output_type'] = 'display_data';\n",
              "        await google.colab.output.renderOutput(dataTable, element);\n",
              "        const docLink = document.createElement('div');\n",
              "        docLink.innerHTML = docLinkHtml;\n",
              "        element.appendChild(docLink);\n",
              "      }\n",
              "    </script>\n",
              "  </div>\n",
              "\n",
              "\n",
              "<div id=\"df-a0bc45ed-3722-4389-b532-427078d97063\">\n",
              "  <button class=\"colab-df-quickchart\" onclick=\"quickchart('df-a0bc45ed-3722-4389-b532-427078d97063')\"\n",
              "            title=\"Suggest charts\"\n",
              "            style=\"display:none;\">\n",
              "\n",
              "<svg xmlns=\"http://www.w3.org/2000/svg\" height=\"24px\"viewBox=\"0 0 24 24\"\n",
              "     width=\"24px\">\n",
              "    <g>\n",
              "        <path d=\"M19 3H5c-1.1 0-2 .9-2 2v14c0 1.1.9 2 2 2h14c1.1 0 2-.9 2-2V5c0-1.1-.9-2-2-2zM9 17H7v-7h2v7zm4 0h-2V7h2v10zm4 0h-2v-4h2v4z\"/>\n",
              "    </g>\n",
              "</svg>\n",
              "  </button>\n",
              "\n",
              "<style>\n",
              "  .colab-df-quickchart {\n",
              "      --bg-color: #E8F0FE;\n",
              "      --fill-color: #1967D2;\n",
              "      --hover-bg-color: #E2EBFA;\n",
              "      --hover-fill-color: #174EA6;\n",
              "      --disabled-fill-color: #AAA;\n",
              "      --disabled-bg-color: #DDD;\n",
              "  }\n",
              "\n",
              "  [theme=dark] .colab-df-quickchart {\n",
              "      --bg-color: #3B4455;\n",
              "      --fill-color: #D2E3FC;\n",
              "      --hover-bg-color: #434B5C;\n",
              "      --hover-fill-color: #FFFFFF;\n",
              "      --disabled-bg-color: #3B4455;\n",
              "      --disabled-fill-color: #666;\n",
              "  }\n",
              "\n",
              "  .colab-df-quickchart {\n",
              "    background-color: var(--bg-color);\n",
              "    border: none;\n",
              "    border-radius: 50%;\n",
              "    cursor: pointer;\n",
              "    display: none;\n",
              "    fill: var(--fill-color);\n",
              "    height: 32px;\n",
              "    padding: 0;\n",
              "    width: 32px;\n",
              "  }\n",
              "\n",
              "  .colab-df-quickchart:hover {\n",
              "    background-color: var(--hover-bg-color);\n",
              "    box-shadow: 0 1px 2px rgba(60, 64, 67, 0.3), 0 1px 3px 1px rgba(60, 64, 67, 0.15);\n",
              "    fill: var(--button-hover-fill-color);\n",
              "  }\n",
              "\n",
              "  .colab-df-quickchart-complete:disabled,\n",
              "  .colab-df-quickchart-complete:disabled:hover {\n",
              "    background-color: var(--disabled-bg-color);\n",
              "    fill: var(--disabled-fill-color);\n",
              "    box-shadow: none;\n",
              "  }\n",
              "\n",
              "  .colab-df-spinner {\n",
              "    border: 2px solid var(--fill-color);\n",
              "    border-color: transparent;\n",
              "    border-bottom-color: var(--fill-color);\n",
              "    animation:\n",
              "      spin 1s steps(1) infinite;\n",
              "  }\n",
              "\n",
              "  @keyframes spin {\n",
              "    0% {\n",
              "      border-color: transparent;\n",
              "      border-bottom-color: var(--fill-color);\n",
              "      border-left-color: var(--fill-color);\n",
              "    }\n",
              "    20% {\n",
              "      border-color: transparent;\n",
              "      border-left-color: var(--fill-color);\n",
              "      border-top-color: var(--fill-color);\n",
              "    }\n",
              "    30% {\n",
              "      border-color: transparent;\n",
              "      border-left-color: var(--fill-color);\n",
              "      border-top-color: var(--fill-color);\n",
              "      border-right-color: var(--fill-color);\n",
              "    }\n",
              "    40% {\n",
              "      border-color: transparent;\n",
              "      border-right-color: var(--fill-color);\n",
              "      border-top-color: var(--fill-color);\n",
              "    }\n",
              "    60% {\n",
              "      border-color: transparent;\n",
              "      border-right-color: var(--fill-color);\n",
              "    }\n",
              "    80% {\n",
              "      border-color: transparent;\n",
              "      border-right-color: var(--fill-color);\n",
              "      border-bottom-color: var(--fill-color);\n",
              "    }\n",
              "    90% {\n",
              "      border-color: transparent;\n",
              "      border-bottom-color: var(--fill-color);\n",
              "    }\n",
              "  }\n",
              "</style>\n",
              "\n",
              "  <script>\n",
              "    async function quickchart(key) {\n",
              "      const quickchartButtonEl =\n",
              "        document.querySelector('#' + key + ' button');\n",
              "      quickchartButtonEl.disabled = true;  // To prevent multiple clicks.\n",
              "      quickchartButtonEl.classList.add('colab-df-spinner');\n",
              "      try {\n",
              "        const charts = await google.colab.kernel.invokeFunction(\n",
              "            'suggestCharts', [key], {});\n",
              "      } catch (error) {\n",
              "        console.error('Error during call to suggestCharts:', error);\n",
              "      }\n",
              "      quickchartButtonEl.classList.remove('colab-df-spinner');\n",
              "      quickchartButtonEl.classList.add('colab-df-quickchart-complete');\n",
              "    }\n",
              "    (() => {\n",
              "      let quickchartButtonEl =\n",
              "        document.querySelector('#df-a0bc45ed-3722-4389-b532-427078d97063 button');\n",
              "      quickchartButtonEl.style.display =\n",
              "        google.colab.kernel.accessAllowed ? 'block' : 'none';\n",
              "    })();\n",
              "  </script>\n",
              "</div>\n",
              "\n",
              "  <div id=\"id_b58a2ab0-2393-476e-b4f3-70232e6a5e60\">\n",
              "    <style>\n",
              "      .colab-df-generate {\n",
              "        background-color: #E8F0FE;\n",
              "        border: none;\n",
              "        border-radius: 50%;\n",
              "        cursor: pointer;\n",
              "        display: none;\n",
              "        fill: #1967D2;\n",
              "        height: 32px;\n",
              "        padding: 0 0 0 0;\n",
              "        width: 32px;\n",
              "      }\n",
              "\n",
              "      .colab-df-generate:hover {\n",
              "        background-color: #E2EBFA;\n",
              "        box-shadow: 0px 1px 2px rgba(60, 64, 67, 0.3), 0px 1px 3px 1px rgba(60, 64, 67, 0.15);\n",
              "        fill: #174EA6;\n",
              "      }\n",
              "\n",
              "      [theme=dark] .colab-df-generate {\n",
              "        background-color: #3B4455;\n",
              "        fill: #D2E3FC;\n",
              "      }\n",
              "\n",
              "      [theme=dark] .colab-df-generate:hover {\n",
              "        background-color: #434B5C;\n",
              "        box-shadow: 0px 1px 3px 1px rgba(0, 0, 0, 0.15);\n",
              "        filter: drop-shadow(0px 1px 2px rgba(0, 0, 0, 0.3));\n",
              "        fill: #FFFFFF;\n",
              "      }\n",
              "    </style>\n",
              "    <button class=\"colab-df-generate\" onclick=\"generateWithVariable('products_df')\"\n",
              "            title=\"Generate code using this dataframe.\"\n",
              "            style=\"display:none;\">\n",
              "\n",
              "  <svg xmlns=\"http://www.w3.org/2000/svg\" height=\"24px\"viewBox=\"0 0 24 24\"\n",
              "       width=\"24px\">\n",
              "    <path d=\"M7,19H8.4L18.45,9,17,7.55,7,17.6ZM5,21V16.75L18.45,3.32a2,2,0,0,1,2.83,0l1.4,1.43a1.91,1.91,0,0,1,.58,1.4,1.91,1.91,0,0,1-.58,1.4L9.25,21ZM18.45,9,17,7.55Zm-12,3A5.31,5.31,0,0,0,4.9,8.1,5.31,5.31,0,0,0,1,6.5,5.31,5.31,0,0,0,4.9,4.9,5.31,5.31,0,0,0,6.5,1,5.31,5.31,0,0,0,8.1,4.9,5.31,5.31,0,0,0,12,6.5,5.46,5.46,0,0,0,6.5,12Z\"/>\n",
              "  </svg>\n",
              "    </button>\n",
              "    <script>\n",
              "      (() => {\n",
              "      const buttonEl =\n",
              "        document.querySelector('#id_b58a2ab0-2393-476e-b4f3-70232e6a5e60 button.colab-df-generate');\n",
              "      buttonEl.style.display =\n",
              "        google.colab.kernel.accessAllowed ? 'block' : 'none';\n",
              "\n",
              "      buttonEl.onclick = () => {\n",
              "        google.colab.notebook.generateWithVariable('products_df');\n",
              "      }\n",
              "      })();\n",
              "    </script>\n",
              "  </div>\n",
              "\n",
              "    </div>\n",
              "  </div>\n"
            ],
            "text/plain": [
              "    product_id                    product_name      product_explanation  \\\n",
              "0            1            밀크 클래식 쌀과자 240g -과자-         진한 우유향이 매력적인 쌀과자   \n",
              "1            2           새우깡 미니팩 30g X 4입 -과자-       가볍게 증기는 고소한 새우맛 과자   \n",
              "2            3               마카로니 과자 305g -과자-    자꾸만 손이 가는 추억의 마카로니 과자   \n",
              "3            4               Lay`s 감자칩 5종 -과자-       세계인의 사랑을 받는 감자맛 과자   \n",
              "4            5             카스타드 오리지널 230g -과자-  촉촉한 빵 속 부드러운 크림이 들어간 과자   \n",
              "..         ...                             ...                      ...   \n",
              "75          76              무항생제 1등급 한돈 다짐육 2종    깨끗한 품질, 다양한 쓰임새의 돼지고기   \n",
              "76          77    무항생제 1등급 한돈 등심 카레용 2종 -돼지고기-       안전함에 간편함까지 갖춘 돼지고기   \n",
              "77          78       무항생제 1등급 한돈 앞다리 3종 -돼지고기-   합리적인 가격과 맛을 모두 갖춘 돼지고기   \n",
              "78          79              한돈 찜갈비 800g -돼지고기-  온 가족이 둘러앉아 즐기는 넉넉한 돼지고기   \n",
              "79          80  하이포크 그때 그 뒷고기 뽈항정살 500g -돼지고기-   육즙 가즉 즐기는 쫄깃한 식감의 돼지고기   \n",
              "\n",
              "     product_image product_detail_image  product_price  product_inventory  \\\n",
              "0    image_1_1.jpg        image_1_2.jpg           4500                110   \n",
              "1    image_2_1.jpg        image_2_2.jpg           2250                120   \n",
              "2    image_3_1.jpg        image_3_2.jpg           3680                130   \n",
              "3    image_4_1.jpg        image_4_2.jpg           4980                200   \n",
              "4    image_5_1.jpg        image_5_2.jpg           4780                120   \n",
              "..             ...                  ...            ...                ...   \n",
              "75  image_76_1.jpg       image_76_2.jpg           3990                130   \n",
              "76  image_77_1.jpg       image_77_2.jpg           5990                190   \n",
              "77  image_78_1.jpg       image_78_2.jpg           6390                250   \n",
              "78  image_79_1.jpg       image_79_2.jpg          15900                210   \n",
              "79  image_80_1.jpg       image_80_2.jpg          13000                150   \n",
              "\n",
              "       category  discount          create_time                 update_time  \\\n",
              "0         간식/과자         8  2023-12-19 20:25:28  2024-08-12 16:24:31.138675   \n",
              "1         간식/과자        10  2022-12-31 23:14:21  2024-08-12 16:24:31.138699   \n",
              "2         간식/과자        10  2021-03-28 21:57:51  2024-08-12 16:24:31.138708   \n",
              "3         간식/과자        10  2023-09-11 06:06:23  2024-08-12 16:24:31.138716   \n",
              "4         간식/과자         9  2022-06-23 12:11:31  2024-08-12 16:24:31.138724   \n",
              "..          ...       ...                  ...                         ...   \n",
              "75  정육-가공육/돼지고기        20  2021-07-28 17:05:24  2024-08-12 16:24:31.139337   \n",
              "76  정육-가공육/돼지고기        25  2021-06-26 15:59:07  2024-08-12 16:24:31.139344   \n",
              "77  정육-가공육/돼지고기        10  2020-04-18 16:16:30  2024-08-12 16:24:31.139352   \n",
              "78  정육-가공육/돼지고기        20  2020-02-02 19:17:21  2024-08-12 16:24:31.139360   \n",
              "79  정육-가공육/돼지고기        30  2022-02-24 05:45:20  2024-08-12 16:24:31.139368   \n",
              "\n",
              "   cart_id  member_id  review_star  product_quanity  \n",
              "0     None          4         4.80              450  \n",
              "1     None          3         4.90              480  \n",
              "2     None          6         4.75              400  \n",
              "3     None          3         4.50              470  \n",
              "4     None          7         4.70              370  \n",
              "..     ...        ...          ...              ...  \n",
              "75    None          3         4.00              440  \n",
              "76    None          2         4.50              470  \n",
              "77    None          3         4.90              500  \n",
              "78    None          7         4.40              460  \n",
              "79    None         10         4.80              460  \n",
              "\n",
              "[80 rows x 15 columns]"
            ]
          },
          "execution_count": 19,
          "metadata": {},
          "output_type": "execute_result"
        }
      ],
      "source": [
        "import pandas as pd\n",
        "\n",
        "products_data = products\n",
        "products_df = pd.DataFrame(products_data)\n",
        "products_df"
      ]
    },
    {
      "cell_type": "markdown",
      "metadata": {
        "id": "IFMaCEEB1T0w"
      },
      "source": [
        "#### Data Type 확인"
      ]
    },
    {
      "cell_type": "code",
      "execution_count": 20,
      "metadata": {
        "colab": {
          "base_uri": "https://localhost:8080/"
        },
        "id": "U1mrHPUQZhbY",
        "outputId": "cc3dedd3-c4c9-4019-a4cd-635443e3db09"
      },
      "outputs": [
        {
          "name": "stdout",
          "output_type": "stream",
          "text": [
            "##########\n",
            "데이터 타입 확인\n",
            "Data Types:\n",
            " product_id                int64\n",
            "product_name             object\n",
            "product_explanation      object\n",
            "product_image            object\n",
            "product_detail_image     object\n",
            "product_price             int64\n",
            "product_inventory         int64\n",
            "category                 object\n",
            "discount                  int64\n",
            "create_time              object\n",
            "update_time              object\n",
            "cart_id                  object\n",
            "member_id                 int64\n",
            "review_star             float64\n",
            "product_quanity           int64\n",
            "dtype: object\n",
            "##########\n",
            "범주형 데이터 분리하여 분석\n",
            "\n",
            "Categorical Columns:\n",
            " Index(['product_name', 'product_explanation', 'product_image',\n",
            "       'product_detail_image', 'category', 'create_time', 'update_time',\n",
            "       'cart_id'],\n",
            "      dtype='object')\n",
            "##########\n",
            "수치형 데이터 분리하여 분석\n",
            "\n",
            "Numerical Columns:\n",
            " Index(['product_id', 'product_price', 'product_inventory', 'discount',\n",
            "       'member_id', 'review_star', 'product_quanity'],\n",
            "      dtype='object')\n"
          ]
        }
      ],
      "source": [
        "# 데이터 타입 확인\n",
        "print(\"#\"*10)\n",
        "print(\"데이터 타입 확인\")\n",
        "print(\"Data Types:\\n\", products_df.dtypes)\n",
        "\n",
        "# 범주형 및 수치형 데이터 분리하여 분석\n",
        "product_categorical_cols = products_df.select_dtypes(include=['object', 'category']).columns\n",
        "product_numerical_cols = products_df.select_dtypes(include=['int64', 'float64']).columns\n",
        "\n",
        "print(\"#\"*10)\n",
        "print(\"범주형 데이터 분리하여 분석\")\n",
        "print(\"\\nCategorical Columns:\\n\", product_categorical_cols)\n",
        "\n",
        "print(\"#\"*10)\n",
        "print(\"수치형 데이터 분리하여 분석\")\n",
        "print(\"\\nNumerical Columns:\\n\", product_numerical_cols)"
      ]
    },
    {
      "cell_type": "markdown",
      "metadata": {
        "id": "Gq2XGLfx1WUE"
      },
      "source": [
        "## 콘텐츠 기반 필터링(Content-Based Filtering)을 사용한 이유\n",
        "- 콘텐츠 기반 필터링은 사용자와 항목의 특징(특성)을 분석하여 추천하는 방법입니다. 사용자가 과거에 선호했던 항목들의 특성을 바탕으로 유사한 특성을 가진 항목을 추천합니다.\n",
        "\n",
        "- 개인화된 추천: 사용자의 과거 행동과 선호도를 반영하여 개인화된 추천을 제공할 수 있습니다.\n",
        "- 새로운 항목 추천: 협업 필터링의 콜드 스타트 문제를 피할 수 있으며, 사용자가 새로 추가된 항목도 추천받을 수 있습니다.\n",
        "- 직관적 이해: 사용자가 왜 특정 항목을 추천받았는지 쉽게 이해할 수 있습니다. 특정 특성(예: 가격, 카테고리 등)이 추천 이유가 되기 때문입니다.\n",
        "콘텐츠 기반 필터링을 사용한 이유\n",
        "- 데이터 가용성: 제공된 데이터셋에는 제품, 구매자, 주문, 리뷰 등의 상세한 특성이 포함되어 있어, 각 항목의 특성을 분석하기에 적합했습니다.\n",
        "- 특성 기반 분석: 제품의 가격, 재고, 할인율 등과 같은 구체적인 특성을 기반으로 리뷰 평점과의 관계를 분석하여 추천 모델을 만들 수 있습니다.\n",
        "- 사용자 맞춤 추천: 사용자의 구매 이력과 제품 특성을 기반으로 유사한 제품을 추천할 수 있습니다."
      ]
    },
    {
      "cell_type": "markdown",
      "metadata": {
        "id": "p4TEOMte1CQz"
      },
      "source": [
        "이 추천 시스템은 회귀 모델 기반의 협업 필터링 방식입니다. 다양한 피처를 사용하여 사용자가 항목에 부여할 평점을 예측하고, 이를 기반으로 사용자가 아직 경험하지 않은 항목을 추천합니다. 이 방식은 사용자의 과거 평점 데이터를 활용하여 미래의 평점을 예측하고, 높은 평점을 받을 가능성이 있는 항목을 추천하는 방식입니다."
      ]
    },
    {
      "cell_type": "markdown",
      "metadata": {
        "id": "7eh_FEF5mSJs"
      },
      "source": [
        "#### 데이터 분포 확인"
      ]
    },
    {
      "cell_type": "code",
      "execution_count": 21,
      "metadata": {
        "id": "1s9zSYEwOkEo"
      },
      "outputs": [],
      "source": [
        "from sklearn.metrics.pairwise import cosine_similarity\n",
        "from sklearn.preprocessing import LabelEncoder\n",
        "\n",
        "# 필요한 열만 선택\n",
        "selected_features = ['product_id', 'product_name', 'product_explanation', 'product_image',\n",
        "                     'product_price', 'product_inventory', 'category', 'discount',\n",
        "                     'create_time', 'update_time', 'cart_id', 'member_id',\n",
        "                     'review_star', 'product_quanity']\n",
        "\n",
        "products_df = products_df[selected_features]"
      ]
    },
    {
      "cell_type": "code",
      "execution_count": 22,
      "metadata": {
        "colab": {
          "base_uri": "https://localhost:8080/"
        },
        "id": "w2qFbsEXq0f_",
        "outputId": "95373bac-6e77-432c-9baf-0c040add36d4"
      },
      "outputs": [
        {
          "name": "stderr",
          "output_type": "stream",
          "text": [
            "<ipython-input-22-c7608f3f2fbd>:3: SettingWithCopyWarning: \n",
            "A value is trying to be set on a copy of a slice from a DataFrame.\n",
            "Try using .loc[row_indexer,col_indexer] = value instead\n",
            "\n",
            "See the caveats in the documentation: https://pandas.pydata.org/pandas-docs/stable/user_guide/indexing.html#returning-a-view-versus-a-copy\n",
            "  products_df['category'] = label_encoder.fit_transform(products_df['category'])\n"
          ]
        }
      ],
      "source": [
        "# 범주형 변수 인코딩\n",
        "label_encoder = LabelEncoder()\n",
        "products_df['category'] = label_encoder.fit_transform(products_df['category'])\n",
        "\n",
        "# 결측값 처리 (리뷰 평점이 없는 행 제거)\n",
        "products_df = products_df.dropna(subset=['review_star'])\n",
        "\n",
        "# 사용자-아이템 행렬을 생성합니다.\n",
        "user_item_matrix = products_df.pivot(index='member_id', columns='product_id', values='review_star').fillna(0)\n",
        "\n",
        "# 아이템 간 유사도를 계산합니다.\n",
        "item_similarity = cosine_similarity(user_item_matrix.T)\n",
        "\n",
        "# 유사도 데이터프레임을 생성합니다.\n",
        "item_similarity_df = pd.DataFrame(item_similarity, index=user_item_matrix.columns, columns=user_item_matrix.columns)\n",
        "\n",
        "def get_similar_items(product_id, num_items=5):\n",
        "    if product_id in item_similarity_df.index:\n",
        "        similar_items = item_similarity_df[product_id].sort_values(ascending=False).head(num_items)\n",
        "        return similar_items\n",
        "    else:\n",
        "        return f\"Product ID {product_id} not found in the dataset\""
      ]
    },
    {
      "cell_type": "code",
      "execution_count": 23,
      "metadata": {
        "colab": {
          "base_uri": "https://localhost:8080/"
        },
        "id": "PlLJJIAEO9ni",
        "outputId": "d9ea2b56-6efc-49bd-c2da-a1f97ec53aa1"
      },
      "outputs": [
        {
          "name": "stdout",
          "output_type": "stream",
          "text": [
            "Available Product IDs: [1, 2, 3, 4, 5, 6, 7, 8, 9, 10, 11, 12, 13, 14, 15, 16, 17, 18, 19, 20, 21, 22, 23, 24, 25, 26, 27, 28, 29, 30, 31, 32, 33, 34, 35, 36, 37, 38, 39, 40, 41, 42, 43, 44, 45, 46, 47, 48, 49, 50, 51, 52, 53, 54, 55, 56, 57, 58, 59, 60, 61, 62, 63, 64, 65, 66, 67, 68, 69, 70, 71, 72, 73, 74, 75, 76, 77, 78, 79, 80]\n",
            "Similar items to product ID 1:\n",
            "product_id\n",
            "1     1.0\n",
            "6     1.0\n",
            "74    1.0\n",
            "37    1.0\n",
            "7     1.0\n",
            "Name: 1, dtype: float64\n"
          ]
        }
      ],
      "source": [
        "# 데이터셋에 있는 product_id들을 출력합니다.\n",
        "available_product_ids = item_similarity_df.index.tolist()\n",
        "print(\"Available Product IDs:\", available_product_ids)\n",
        "\n",
        "# 특정 제품과 유사한 제품 추천\n",
        "product_id_to_check = available_product_ids[0]  # 유효한 제품 ID 중 하나 선택\n",
        "print(f\"Similar items to product ID {product_id_to_check}:\")\n",
        "print(get_similar_items(product_id_to_check, 5))"
      ]
    },
    {
      "cell_type": "markdown",
      "metadata": {
        "id": "BCF2znpO0RnP"
      },
      "source": [
        "#### Product Price (상품 가격):\n",
        "- 가장 높은 중요도를 보입니다. 이는 product_price가 review_star 예측에 가장 큰 영향을 미친다는 것을 의미합니다. 즉, 상품 가격이 리뷰 평점에 매우 중요한 역할을 한다고 볼 수 있습니다.\n",
        "\n",
        "#### Order Price (주문 가격):\n",
        "- 두 번째로 높은 중요도를 보입니다. 이는 order_price가 리뷰 평점에 상당히 중요한 영향을 미친다는 것을 의미합니다. 주문 시 총 가격이 리뷰 평점에 영향을 줄 수 있습니다.\n",
        "\n",
        "#### Product Inventory (상품 재고):\n",
        "- 중간 정도의 중요도를 보입니다. 이는 product_inventory가 리뷰 평점에 어느 정도 영향을 미친다는 것을 의미합니다. 재고 수량이 많거나 적은 것이 사용자의 리뷰 평점에 영향을 줄 수 있습니다.\n",
        "\n",
        "#### Discount (할인율):\n",
        "- 중간 정도의 중요도를 보입니다. 이는 discount가 리뷰 평점에 영향을 미친다는 것을 의미합니다. 할인이 있는 경우 리뷰 평점에 긍정적이거나 부정적인 영향을 줄 수 있습니다.\n",
        "\n",
        "#### Quantity (구매 수량):\n",
        "- 가장 낮은 중요도를 보입니다. 이는 quantity가 리뷰 평점에 상대적으로 적은 영향을 미친다는 것을 의미합니다. 구매 수량은 리뷰 평점에 덜 중요한 요소일 수 있습니다."
      ]
    },
    {
      "cell_type": "markdown",
      "metadata": {
        "id": "ghDgNcbQuLgq"
      },
      "source": [
        "#### 데이터 전처리및 병합 목적\n",
        "- selected_features 리스트는 데이터셋에서 선택해야 하는 모든 열을 포함하여, 데이터 전처리 및 병합 작업을 위해 사용됩니다."
      ]
    },
    {
      "cell_type": "code",
      "execution_count": 24,
      "metadata": {
        "colab": {
          "base_uri": "https://localhost:8080/"
        },
        "id": "enri0BAP1tN8",
        "outputId": "c731cbd7-1a51-470a-9d37-54ab176ff4ef"
      },
      "outputs": [
        {
          "name": "stdout",
          "output_type": "stream",
          "text": [
            "결측값 개수:\n",
            " product_id           0\n",
            "review_star          0\n",
            "product_price        0\n",
            "product_inventory    0\n",
            "category             0\n",
            "discount             0\n",
            "product_quanity      0\n",
            "dtype: int64\n",
            "Filtered Data:\n",
            "    product_id  review_star  product_price  product_inventory  category  \\\n",
            "0           1         4.80           4500                110         0   \n",
            "1           2         4.90           2250                120         0   \n",
            "2           3         4.75           3680                130         0   \n",
            "3           4         4.50           4980                200         0   \n",
            "4           5         4.70           4780                120         0   \n",
            "\n",
            "   discount  product_quanity  \n",
            "0         8              450  \n",
            "1        10              480  \n",
            "2        10              400  \n",
            "3        10              470  \n",
            "4         9              370  \n",
            "Filtered Data Shape: (80, 7)\n"
          ]
        }
      ],
      "source": [
        "from sklearn.preprocessing import LabelEncoder\n",
        "\n",
        "# products_df 데이터프레임이 이미 로드된 상태로 가정합니다\n",
        "\n",
        "# 필요한 열 선택\n",
        "selected_features = ['product_id', 'review_star', 'product_price', 'product_inventory', 'category', 'discount', 'product_quanity']\n",
        "\n",
        "# 범주형 변수 인코딩\n",
        "label_encoder = LabelEncoder()\n",
        "products_df['category'] = label_encoder.fit_transform(products_df['category'])\n",
        "\n",
        "# 필요한 열 선택\n",
        "filtered_data = products_df[selected_features]\n",
        "\n",
        "# 결측값 확인\n",
        "print(\"결측값 개수:\\n\", filtered_data.isnull().sum())\n",
        "filtered_data = filtered_data.dropna()\n",
        "\n",
        "# 데이터 확인\n",
        "print(\"Filtered Data:\\n\", filtered_data.head())\n",
        "print(\"Filtered Data Shape:\", filtered_data.shape)\n"
      ]
    },
    {
      "cell_type": "markdown",
      "metadata": {
        "id": "JwbThDahHkok"
      },
      "source": [
        "#### 사진에 기반해 Feature importance 조정 - balance 있게 조정"
      ]
    },
    {
      "cell_type": "markdown",
      "metadata": {
        "id": "W0F1cYjJHgTv"
      },
      "source": [
        "![image.png](data:image/png;base64,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)"
      ]
    },
    {
      "cell_type": "markdown",
      "metadata": {
        "id": "f7_x-wrJTfDX"
      },
      "source": [
        "#### 사용자 기반 추천 시스템 모델"
      ]
    },
    {
      "cell_type": "code",
      "execution_count": 44,
      "metadata": {
        "colab": {
          "base_uri": "https://localhost:8080/"
        },
        "id": "o8KFkkVVTLFk",
        "outputId": "9e13d62b-624e-45c4-b6a6-57319c2b1585"
      },
      "outputs": [
        {
          "name": "stdout",
          "output_type": "stream",
          "text": [
            "Mean Squared Error: 0.06869789294417272\n",
            "   product_id  predicted_review_star\n",
            "0           1               4.719110\n",
            "1           2               4.848846\n",
            "2           3               4.374081\n",
            "3           4               4.613999\n",
            "4           5               4.235317\n"
          ]
        }
      ],
      "source": [
        "from sklearn.linear_model import LinearRegression\n",
        "from sklearn.model_selection import train_test_split\n",
        "from sklearn.metrics import mean_squared_error\n",
        "from sklearn.preprocessing import StandardScaler\n",
        "\n",
        "# 특성과 타겟 설정\n",
        "features = ['product_price', 'product_inventory', 'discount', 'product_quanity']\n",
        "target = 'review_star'\n",
        "\n",
        "# 데이터를 특성과 타겟으로 분리\n",
        "X = filtered_data[features]\n",
        "y = filtered_data[target]\n",
        "\n",
        "# 특성에 가중치 적용\n",
        "weights = [8.0, 1.5, 1.5, 0.8]  # 각 특성에 적용할 가중치('product_price', 'product_inventory', 'discount', 'product_quanity')\n",
        "X_weighted = X * weights\n",
        "\n",
        "# 특성 스케일링\n",
        "scaler = StandardScaler()\n",
        "X_scaled = scaler.fit_transform(X_weighted)\n",
        "\n",
        "# 훈련 데이터와 테스트 데이터 분할\n",
        "X_train, X_test, y_train, y_test = train_test_split(X_scaled, y, test_size=0.2, random_state=42)\n",
        "\n",
        "# 회귀 모델 훈련\n",
        "model = LinearRegression()\n",
        "model.fit(X_train, y_train)\n",
        "\n",
        "# 모델 평가\n",
        "y_pred = model.predict(X_test)\n",
        "mse = mean_squared_error(y_test, y_pred)\n",
        "print(f'Mean Squared Error: {mse}')\n",
        "\n",
        "# 전체 데이터에 대한 추천 점수 계산\n",
        "X_all_weighted = X * weights  # 전체 데이터에 가중치 적용\n",
        "X_all_scaled = scaler.transform(X_all_weighted)  # 스케일링 적용\n",
        "filtered_data['predicted_review_star'] = model.predict(X_all_scaled)\n",
        "\n",
        "# 결과 확인\n",
        "print(filtered_data[['product_id', 'predicted_review_star']].head())"
      ]
    },
    {
      "cell_type": "markdown",
      "metadata": {
        "id": "9HYJBEnzXvPN"
      },
      "source": [
        "이 추천 시스템은 회귀 모델 기반의 협업 필터링 방식입니다. 다양한 피처를 사용하여 사용자가 항목에 부여할 평점을 예측하고, 이를 기반으로 사용자가 아직 경험하지 않은 항목을 추천합니다. 이 방식은 사용자의 과거 평점 데이터를 활용하여 미래의 평점을 예측하고, 높은 평점을 받을 가능성이 있는 항목을 추천하는 방식입니다."
      ]
    },
    {
      "cell_type": "markdown",
      "metadata": {
        "id": "gf1Q6QapXhmc"
      },
      "source": [
        "- 일단 해야하는건, 추천시스템은 완성. 다만 카테고리별로 나타내줘야함."
      ]
    },
    {
      "cell_type": "markdown",
      "metadata": {
        "id": "57ep0JyyZKcZ"
      },
      "source": [
        "#### 카테고리별 평점 기반 추천시스템 - 아니 불안불안 해서 이건 확인해보려고 만든겁니다\n",
        "- 간식/과자: 0\n",
        "- 간식/초콜릿-젤리: 1\n",
        "- 와인-위스키/레드와인: 2\n",
        "- 와인-위스키/화이트-로제와인: 3\n",
        "- 유제품/우유_두유: 4\n",
        "- 유제품/아이스크림: 5\n",
        "- 정육-가공육/소고기: 6\n",
        "- 정육-가공육/돼지고기: 7"
      ]
    },
    {
      "cell_type": "code",
      "execution_count": 45,
      "metadata": {
        "colab": {
          "base_uri": "https://localhost:8080/"
        },
        "id": "QWhzXgBk2dWc",
        "outputId": "f44065e9-86aa-44bf-c1b7-f8156784ec81"
      },
      "outputs": [
        {
          "name": "stdout",
          "output_type": "stream",
          "text": [
            "    product_id                    product_name      product_explanation  \\\n",
            "0            1            밀크 클래식 쌀과자 240g -과자-         진한 우유향이 매력적인 쌀과자   \n",
            "1            2           새우깡 미니팩 30g X 4입 -과자-       가볍게 증기는 고소한 새우맛 과자   \n",
            "2            3               마카로니 과자 305g -과자-    자꾸만 손이 가는 추억의 마카로니 과자   \n",
            "3            4               Lay`s 감자칩 5종 -과자-       세계인의 사랑을 받는 감자맛 과자   \n",
            "4            5             카스타드 오리지널 230g -과자-  촉촉한 빵 속 부드러운 크림이 들어간 과자   \n",
            "..         ...                             ...                      ...   \n",
            "75          76              무항생제 1등급 한돈 다짐육 2종    깨끗한 품질, 다양한 쓰임새의 돼지고기   \n",
            "76          77    무항생제 1등급 한돈 등심 카레용 2종 -돼지고기-       안전함에 간편함까지 갖춘 돼지고기   \n",
            "77          78       무항생제 1등급 한돈 앞다리 3종 -돼지고기-   합리적인 가격과 맛을 모두 갖춘 돼지고기   \n",
            "78          79              한돈 찜갈비 800g -돼지고기-  온 가족이 둘러앉아 즐기는 넉넉한 돼지고기   \n",
            "79          80  하이포크 그때 그 뒷고기 뽈항정살 500g -돼지고기-   육즙 가즉 즐기는 쫄깃한 식감의 돼지고기   \n",
            "\n",
            "     product_image  product_price  product_inventory  category  discount  \\\n",
            "0    image_1_1.jpg           4500                110         0         8   \n",
            "1    image_2_1.jpg           2250                120         0        10   \n",
            "2    image_3_1.jpg           3680                130         0        10   \n",
            "3    image_4_1.jpg           4980                200         0        10   \n",
            "4    image_5_1.jpg           4780                120         0         9   \n",
            "..             ...            ...                ...       ...       ...   \n",
            "75  image_76_1.jpg           3990                130         6        20   \n",
            "76  image_77_1.jpg           5990                190         6        25   \n",
            "77  image_78_1.jpg           6390                250         6        10   \n",
            "78  image_79_1.jpg          15900                210         6        20   \n",
            "79  image_80_1.jpg          13000                150         6        30   \n",
            "\n",
            "            create_time                 update_time cart_id  member_id  \\\n",
            "0   2023-12-19 20:25:28  2024-08-12 16:24:31.138675    None          4   \n",
            "1   2022-12-31 23:14:21  2024-08-12 16:24:31.138699    None          3   \n",
            "2   2021-03-28 21:57:51  2024-08-12 16:24:31.138708    None          6   \n",
            "3   2023-09-11 06:06:23  2024-08-12 16:24:31.138716    None          3   \n",
            "4   2022-06-23 12:11:31  2024-08-12 16:24:31.138724    None          7   \n",
            "..                  ...                         ...     ...        ...   \n",
            "75  2021-07-28 17:05:24  2024-08-12 16:24:31.139337    None          3   \n",
            "76  2021-06-26 15:59:07  2024-08-12 16:24:31.139344    None          2   \n",
            "77  2020-04-18 16:16:30  2024-08-12 16:24:31.139352    None          3   \n",
            "78  2020-02-02 19:17:21  2024-08-12 16:24:31.139360    None          7   \n",
            "79  2022-02-24 05:45:20  2024-08-12 16:24:31.139368    None         10   \n",
            "\n",
            "    review_star  product_quanity  \n",
            "0          4.80              450  \n",
            "1          4.90              480  \n",
            "2          4.75              400  \n",
            "3          4.50              470  \n",
            "4          4.70              370  \n",
            "..          ...              ...  \n",
            "75         4.00              440  \n",
            "76         4.50              470  \n",
            "77         4.90              500  \n",
            "78         4.40              460  \n",
            "79         4.80              460  \n",
            "\n",
            "[80 rows x 14 columns]\n"
          ]
        }
      ],
      "source": [
        "print(products_df)"
      ]
    },
    {
      "cell_type": "code",
      "execution_count": 46,
      "metadata": {
        "colab": {
          "base_uri": "https://localhost:8080/",
          "height": 341
        },
        "id": "B9A0wvFCZSnP",
        "outputId": "9e0f357e-ca1e-4cc9-8051-9b94e8599225"
      },
      "outputs": [
        {
          "ename": "AttributeError",
          "evalue": "'DataFrame' object has no attribute 'unique'",
          "output_type": "error",
          "traceback": [
            "\u001b[0;31m---------------------------------------------------------------------------\u001b[0m",
            "\u001b[0;31mAttributeError\u001b[0m                            Traceback (most recent call last)",
            "\u001b[0;32m<ipython-input-46-8054ab36f2ca>\u001b[0m in \u001b[0;36m<cell line: 5>\u001b[0;34m()\u001b[0m\n\u001b[1;32m      3\u001b[0m \u001b[0;34m\u001b[0m\u001b[0m\n\u001b[1;32m      4\u001b[0m \u001b[0;31m# 카테고리 고유 값 확인\u001b[0m\u001b[0;34m\u001b[0m\u001b[0;34m\u001b[0m\u001b[0m\n\u001b[0;32m----> 5\u001b[0;31m \u001b[0munique_categories\u001b[0m \u001b[0;34m=\u001b[0m \u001b[0mproducts_df\u001b[0m\u001b[0;34m.\u001b[0m\u001b[0munique\u001b[0m\u001b[0;34m(\u001b[0m\u001b[0;34m)\u001b[0m\u001b[0;34m\u001b[0m\u001b[0;34m\u001b[0m\u001b[0m\n\u001b[0m\u001b[1;32m      6\u001b[0m \u001b[0mprint\u001b[0m\u001b[0;34m(\u001b[0m\u001b[0;34m\"Unique Categories:\\n\"\u001b[0m\u001b[0;34m,\u001b[0m \u001b[0munique_categories\u001b[0m\u001b[0;34m)\u001b[0m\u001b[0;34m\u001b[0m\u001b[0;34m\u001b[0m\u001b[0m\n\u001b[1;32m      7\u001b[0m \u001b[0;34m\u001b[0m\u001b[0m\n",
            "\u001b[0;32m/usr/local/lib/python3.10/dist-packages/pandas/core/generic.py\u001b[0m in \u001b[0;36m__getattr__\u001b[0;34m(self, name)\u001b[0m\n\u001b[1;32m   6202\u001b[0m         ):\n\u001b[1;32m   6203\u001b[0m             \u001b[0;32mreturn\u001b[0m \u001b[0mself\u001b[0m\u001b[0;34m[\u001b[0m\u001b[0mname\u001b[0m\u001b[0;34m]\u001b[0m\u001b[0;34m\u001b[0m\u001b[0;34m\u001b[0m\u001b[0m\n\u001b[0;32m-> 6204\u001b[0;31m         \u001b[0;32mreturn\u001b[0m \u001b[0mobject\u001b[0m\u001b[0;34m.\u001b[0m\u001b[0m__getattribute__\u001b[0m\u001b[0;34m(\u001b[0m\u001b[0mself\u001b[0m\u001b[0;34m,\u001b[0m \u001b[0mname\u001b[0m\u001b[0;34m)\u001b[0m\u001b[0;34m\u001b[0m\u001b[0;34m\u001b[0m\u001b[0m\n\u001b[0m\u001b[1;32m   6205\u001b[0m \u001b[0;34m\u001b[0m\u001b[0m\n\u001b[1;32m   6206\u001b[0m     \u001b[0;34m@\u001b[0m\u001b[0mfinal\u001b[0m\u001b[0;34m\u001b[0m\u001b[0;34m\u001b[0m\u001b[0m\n",
            "\u001b[0;31mAttributeError\u001b[0m: 'DataFrame' object has no attribute 'unique'"
          ]
        }
      ],
      "source": [
        "import pandas as pd\n",
        "from sklearn.preprocessing import LabelEncoder\n",
        "\n",
        "# 카테고리 고유 값 확인\n",
        "unique_categories = products_df.unique()\n",
        "print(\"Unique Categories:\\n\", unique_categories)\n",
        "\n",
        "# 범주형 변수 인코딩\n",
        "label_encoder = LabelEncoder()\n",
        "category_encoded = label_encoder.fit_transform(products_df)\n",
        "\n",
        "# 카테고리 매핑 정보 생성\n",
        "category_mapping = dict(zip(label_encoder.classes_, range(len(label_encoder.classes_))))\n",
        "\n",
        "# 카테고리 매핑 정보 출력\n",
        "print(\"Category Mapping:\")\n",
        "for category, code in category_mapping.items():\n",
        "    print(f\"{category}: {code}\")\n",
        "\n",
        "# 매핑 확인을 위해 DataFrame 생성\n",
        "mapping_df = pd.DataFrame({\n",
        "    'Category': label_encoder.classes_,\n",
        "    'Encoded Value': range(len(label_encoder.classes_))\n",
        "})\n",
        "\n",
        "print(\"\\nCategory to Encoded Value Mapping:\")\n",
        "print(mapping_df)\n",
        "\n",
        "# 인코딩된 카테고리를 포함한 DataFrame 생성\n",
        "products_df_encoded = pd.DataFrame({\n",
        "    'category': products_df,\n",
        "    'category_encoded': category_encoded\n",
        "})\n",
        "\n",
        "print(\"\\nProducts DataFrame with Encoded Categories:\")\n",
        "print(products_df_encoded)\n",
        "\n",
        "# 원하는 형식으로 출력\n",
        "print(\"\\nFormatted Output:\")\n",
        "for index, row in products_df_encoded.iterrows():\n",
        "    print(f\"{row['category']}: {row['category_encoded']}\")\n"
      ]
    },
    {
      "cell_type": "code",
      "execution_count": 47,
      "metadata": {
        "colab": {
          "base_uri": "https://localhost:8080/"
        },
        "id": "RlkSUc8CZMc5",
        "outputId": "b3cd7264-4e4a-4884-81f1-55d54cee4bed"
      },
      "outputs": [
        {
          "name": "stdout",
          "output_type": "stream",
          "text": [
            "Category: 0\n",
            "   product_id  predicted_review_star\n",
            "1           2                   4.85\n",
            "0           1                   4.72\n",
            "6           7                   4.66\n",
            "7           8                   4.64\n",
            "3           4                   4.61\n",
            "8           9                   4.39\n",
            "2           3                   4.37\n",
            "4           5                   4.24\n",
            "9          10                   4.09\n",
            "5           6                   3.87\n",
            "\n",
            "\n",
            "Category: 1\n",
            "    product_id  predicted_review_star\n",
            "13          14                   4.64\n",
            "19          20                   4.63\n",
            "17          18                   4.61\n",
            "10          11                   4.60\n",
            "16          17                   4.55\n",
            "18          19                   4.51\n",
            "14          15                   4.18\n",
            "11          12                   3.97\n",
            "15          16                   3.80\n",
            "12          13                   3.70\n",
            "\n",
            "\n",
            "Category: 2\n",
            "    product_id  predicted_review_star\n",
            "29          30                   4.90\n",
            "26          27                   4.82\n",
            "23          24                   4.73\n",
            "28          29                   4.41\n",
            "24          25                   4.37\n",
            "21          22                   4.33\n",
            "27          28                   4.21\n",
            "20          21                   4.20\n",
            "25          26                   4.14\n",
            "22          23                   4.04\n",
            "\n",
            "\n",
            "Category: 3\n",
            "    product_id  predicted_review_star\n",
            "34          35                   4.91\n",
            "32          33                   4.63\n",
            "30          31                   4.35\n",
            "33          34                   4.30\n",
            "35          36                   4.25\n",
            "37          38                   4.23\n",
            "36          37                   4.20\n",
            "39          40                   4.19\n",
            "31          32                   4.17\n",
            "38          39                   4.08\n",
            "\n",
            "\n",
            "Category: 4\n",
            "    product_id  predicted_review_star\n",
            "50          51                   4.64\n",
            "54          55                   4.62\n",
            "52          53                   4.42\n",
            "53          54                   4.24\n",
            "56          57                   4.13\n",
            "59          60                   4.12\n",
            "55          56                   4.08\n",
            "57          58                   4.05\n",
            "51          52                   4.03\n",
            "58          59                   4.02\n",
            "\n",
            "\n",
            "Category: 5\n",
            "    product_id  predicted_review_star\n",
            "40          41                   4.62\n",
            "41          42                   4.62\n",
            "49          50                   4.36\n",
            "44          45                   4.22\n",
            "43          44                   4.16\n",
            "46          47                   4.07\n",
            "42          43                   4.06\n",
            "47          48                   4.03\n",
            "45          46                   3.99\n",
            "48          49                   3.90\n",
            "\n",
            "\n",
            "Category: 6\n",
            "    product_id  predicted_review_star\n",
            "74          75                   4.83\n",
            "72          73                   4.72\n",
            "71          72                   4.71\n",
            "77          78                   4.67\n",
            "73          74                   4.59\n",
            "79          80                   4.58\n",
            "75          76                   4.55\n",
            "76          77                   4.55\n",
            "78          79                   4.51\n",
            "70          71                   4.27\n",
            "\n",
            "\n",
            "Category: 7\n",
            "    product_id  predicted_review_star\n",
            "63          64                   4.62\n",
            "67          68                   4.62\n",
            "69          70                   4.57\n",
            "61          62                   4.56\n",
            "68          69                   4.55\n",
            "60          61                   4.54\n",
            "64          65                   4.52\n",
            "62          63                   4.47\n",
            "66          67                   4.42\n",
            "65          66                   4.31\n",
            "\n",
            "\n"
          ]
        }
      ],
      "source": [
        "# 카테고리 인코딩\n",
        "label_encoder = LabelEncoder()\n",
        "filtered_data['category_encoded'] = label_encoder.fit_transform(filtered_data['category'])\n",
        "\n",
        "# 카테고리 매핑 정보 생성\n",
        "category_mapping = dict(zip(label_encoder.classes_, range(len(label_encoder.classes_))))\n",
        "\n",
        "# 카테고리별로 제품과 예측 별점 출력\n",
        "def print_category_recommendations():\n",
        "    for category, code in category_mapping.items():\n",
        "        category_data = filtered_data[filtered_data['category_encoded'] == code].copy()\n",
        "\n",
        "        if not category_data.empty:\n",
        "            # 예측 별점을 소수점 둘째 자리까지 반올림\n",
        "            category_data.loc[:, 'predicted_review_star'] = category_data['predicted_review_star'].round(2)\n",
        "            print(f\"Category: {category}\")\n",
        "            print(category_data[['product_id', 'predicted_review_star']].sort_values(by='predicted_review_star', ascending=False))\n",
        "            print(\"\\n\")\n",
        "        else:\n",
        "            print(f\"No data found for category: {category}\")\n",
        "\n",
        "# 카테고리별 추천 제품 출력\n",
        "print_category_recommendations()"
      ]
    },
    {
      "cell_type": "code",
      "execution_count": 48,
      "metadata": {
        "colab": {
          "base_uri": "https://localhost:8080/"
        },
        "id": "rvaiEB6DcsD_",
        "outputId": "f423986f-641c-4026-c01a-5aedb824ca0e"
      },
      "outputs": [
        {
          "name": "stdout",
          "output_type": "stream",
          "text": [
            "Merged Data Preview:\n",
            "   product_id  review_star  product_price  product_inventory  category  \\\n",
            "0           1         4.80           4500                110         0   \n",
            "1           2         4.90           2250                120         0   \n",
            "2           3         4.75           3680                130         0   \n",
            "3           4         4.50           4980                200         0   \n",
            "4           5         4.70           4780                120         0   \n",
            "\n",
            "   discount  product_quanity  predicted_review_star  category_encoded  \n",
            "0         8              450                   4.72                 0  \n",
            "1        10              480                   4.85                 0  \n",
            "2        10              400                   4.37                 0  \n",
            "3        10              470                   4.61                 0  \n",
            "4         9              370                   4.24                 0  \n",
            "Data has been saved to Kakao_Recsys_Output.csv\n"
          ]
        }
      ],
      "source": [
        "# 전체 데이터프레임에서 predicted_review_star를 소수점 둘째 자리까지 반올림\n",
        "filtered_data['predicted_review_star'] = filtered_data['predicted_review_star'].round(2)\n",
        "\n",
        "# 병합된 데이터 확인 (반올림 적용 후)\n",
        "print(\"Merged Data Preview:\")\n",
        "print(filtered_data.head())\n",
        "\n",
        "# 병합된 데이터를 CSV 파일로 저장\n",
        "output_filename = 'Kakao_Recsys_Output.csv'\n",
        "filtered_data.to_csv(output_filename, index=False)\n",
        "\n",
        "print(f\"Data has been saved to {output_filename}\")\n"
      ]
    },
    {
      "cell_type": "markdown",
      "metadata": {
        "id": "24gmSn96P2mg"
      },
      "source": [
        "#### 예측된 스코어값을 product.json에 병합"
      ]
    },
    {
      "cell_type": "code",
      "execution_count": 49,
      "metadata": {
        "colab": {
          "base_uri": "https://localhost:8080/"
        },
        "id": "ykbHqbrxPwKC",
        "outputId": "c30f4b93-8b65-44e8-8c48-b2ef2aef0f7e"
      },
      "outputs": [
        {
          "name": "stdout",
          "output_type": "stream",
          "text": [
            "Updated JSON file has been saved to product_predictions.json\n"
          ]
        }
      ],
      "source": [
        "for product in products:\n",
        "    product_id = product['product_id']\n",
        "\n",
        "    # filtered_data에서 해당 product_id의 predicted_review_star 값을 가져오기\n",
        "    predicted_star = filtered_data.loc[filtered_data['product_id'] == product_id, 'predicted_review_star'].values\n",
        "\n",
        "    if len(predicted_star) > 0:\n",
        "        product['predicted_review_star'] = predicted_star[0]  # 값을 추가\n",
        "\n",
        "# 결과를 새로운 JSON 파일로 저장\n",
        "output_json_filename = 'product_predictions.json'\n",
        "with open(output_json_filename, 'w', encoding='utf-8') as f:\n",
        "    json.dump(products_data, f, ensure_ascii=False, indent=4)\n",
        "\n",
        "print(f\"Updated JSON file has been saved to {output_json_filename}\")"
      ]
    },
    {
      "cell_type": "markdown",
      "metadata": {
        "id": "-C4RH8F_QB4m"
      },
      "source": [
        "#### product_id에 헤당하는 predicted_review_star 값매칭"
      ]
    },
    {
      "cell_type": "code",
      "execution_count": 50,
      "metadata": {
        "colab": {
          "base_uri": "https://localhost:8080/"
        },
        "id": "sw5oI19zQFDd",
        "outputId": "73f7f5d5-ae1d-4adf-dd7d-db77268834c1"
      },
      "outputs": [
        {
          "name": "stdout",
          "output_type": "stream",
          "text": [
            "Filtered JSON file has been saved to product_id_with_predictions.json\n"
          ]
        }
      ],
      "source": [
        "import json\n",
        "\n",
        "# product_id와 predicted_review_star만 추출\n",
        "predicted_data = filtered_data[['product_id', 'predicted_review_star']].round(2)\n",
        "\n",
        "# 데이터프레임을 딕셔너리로 변환 (리스트의 딕셔너리 형태로)\n",
        "predicted_dict = predicted_data.to_dict(orient='records')\n",
        "\n",
        "# 결과를 JSON 파일로 저장\n",
        "output_json_filename = 'product_id_with_predictions.json'\n",
        "with open(output_json_filename, 'w', encoding='utf-8') as f:\n",
        "    json.dump(predicted_dict, f, ensure_ascii=False, indent=4)\n",
        "\n",
        "print(f\"Filtered JSON file has been saved to {output_json_filename}\")\n"
      ]
    }
  ],
  "metadata": {
    "colab": {
      "provenance": []
    },
    "kernelspec": {
      "display_name": "Python 3",
      "name": "python3"
    },
    "language_info": {
      "name": "python",
      "version": "3.9.6"
    }
  },
  "nbformat": 4,
  "nbformat_minor": 0
}
