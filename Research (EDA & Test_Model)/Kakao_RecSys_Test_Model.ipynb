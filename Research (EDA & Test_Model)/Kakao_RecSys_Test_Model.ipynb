{
  "cells": [
    {
      "cell_type": "code",
      "execution_count": 1,
      "metadata": {
        "colab": {
          "base_uri": "https://localhost:8080/"
        },
        "id": "XpN9OAbSYwZn",
        "outputId": "4c0d355f-27de-4cff-ecde-9d28fda98347"
      },
      "outputs": [
        {
          "name": "stdout",
          "output_type": "stream",
          "text": [
            "Mounted at /content/drive\n"
          ]
        }
      ],
      "source": [
        "from google.colab import drive\n",
        "drive.mount('/content/drive')"
      ]
    },
    {
      "cell_type": "markdown",
      "metadata": {
        "id": "1UhYj8lTZQXL"
      },
      "source": [
        "# 모델에 사용할 데이터\n",
        "- JSON -> Pandas 변환"
      ]
    },
    {
      "cell_type": "markdown",
      "metadata": {
        "id": "UQ-z41RqWiv2"
      },
      "source": [
        "## products.json\n",
        "\n",
        "- product_id\n",
        "- product_name - str\n",
        "- product_price\n",
        "- product_inventory - 재고\n",
        "- category - 0 ~ 7\n",
        "- discount\n",
        "- review_star\n",
        "- product_quanity - 구매수량"
      ]
    },
    {
      "cell_type": "code",
      "execution_count": 1,
      "metadata": {
        "colab": {
          "base_uri": "https://localhost:8080/"
        },
        "id": "vKvT-QpXWBhR",
        "outputId": "0ea1938c-29dd-497d-cc34-71bec778bbd4"
      },
      "outputs": [
        {
          "name": "stdout",
          "output_type": "stream",
          "text": [
            "[{'product_id': 1, 'product_name': '간식_과자_642', 'product_explanation': 'This is a 과자 product in the 간식 category', 'product_image': 'data_image/image_1.JPG', 'product_price': 72135, 'product_inventory': 56, 'category': '간식/과자', 'discount': 22, 'create_time': '2022-11-04 16:14:17', 'update_time': '2024-08-08 20:34:58.984801', 'cart_id': None, 'member_id': 5, 'review_star': 4.34, 'product_quanity': 202}, {'product_id': 2, 'product_name': '간식_과자_780', 'product_explanation': 'This is a 과자 product in the 간식 category', 'product_image': 'data_image/image_2.JPG', 'product_price': 46861, 'product_inventory': 1, 'category': '간식/과자', 'discount': 44, 'create_time': '2023-06-01 13:59:23', 'update_time': '2024-08-08 20:34:58.984823', 'cart_id': None, 'member_id': 9, 'review_star': 2.94, 'product_quanity': 146}, {'product_id': 3, 'product_name': '간식_과자_663', 'product_explanation': 'This is a 과자 product in the 간식 category', 'product_image': 'data_image/image_3.JPG', 'product_price': 11210, 'product_inventory': 0, 'category': '간식/과자', 'discount': 2, 'create_time': '2023-02-06 16:17:04', 'update_time': '2024-08-08 20:34:58.984832', 'cart_id': None, 'member_id': 7, 'review_star': 3.12, 'product_quanity': 29}, {'product_id': 4, 'product_name': '간식_과자_576', 'product_explanation': 'This is a 과자 product in the 간식 category', 'product_image': 'data_image/image_4.JPG', 'product_price': 69118, 'product_inventory': 13, 'category': '간식/과자', 'discount': 31, 'create_time': '2023-11-14 06:23:43', 'update_time': '2024-08-08 20:34:58.984840', 'cart_id': None, 'member_id': 6, 'review_star': 3.94, 'product_quanity': 115}, {'product_id': 5, 'product_name': '간식_과자_993', 'product_explanation': 'This is a 과자 product in the 간식 category', 'product_image': 'data_image/image_5.JPG', 'product_price': 61117, 'product_inventory': 96, 'category': '간식/과자', 'discount': 13, 'create_time': '2022-08-19 13:35:24', 'update_time': '2024-08-08 20:34:58.984848', 'cart_id': None, 'member_id': 1, 'review_star': 2.05, 'product_quanity': 374}, {'product_id': 6, 'product_name': '간식_과자_363', 'product_explanation': 'This is a 과자 product in the 간식 category', 'product_image': 'data_image/image_6.JPG', 'product_price': 78920, 'product_inventory': 1, 'category': '간식/과자', 'discount': 35, 'create_time': '2022-04-16 05:29:52', 'update_time': '2024-08-08 20:34:58.984856', 'cart_id': None, 'member_id': 9, 'review_star': 1.06, 'product_quanity': 165}, {'product_id': 7, 'product_name': '간식_과자_635', 'product_explanation': 'This is a 과자 product in the 간식 category', 'product_image': 'data_image/image_7.JPG', 'product_price': 9335, 'product_inventory': 83, 'category': '간식/과자', 'discount': 34, 'create_time': '2023-05-30 05:35:22', 'update_time': '2024-08-08 20:34:58.984864', 'cart_id': None, 'member_id': 9, 'review_star': 2.73, 'product_quanity': 365}, {'product_id': 8, 'product_name': '간식_과자_787', 'product_explanation': 'This is a 과자 product in the 간식 category', 'product_image': 'data_image/image_8.JPG', 'product_price': 52420, 'product_inventory': 34, 'category': '간식/과자', 'discount': 26, 'create_time': '2022-12-16 08:58:42', 'update_time': '2024-08-08 20:34:58.984871', 'cart_id': None, 'member_id': 2, 'review_star': 1.25, 'product_quanity': 70}, {'product_id': 9, 'product_name': '간식_과자_995', 'product_explanation': 'This is a 과자 product in the 간식 category', 'product_image': 'data_image/image_9.JPG', 'product_price': 39370, 'product_inventory': 75, 'category': '간식/과자', 'discount': 0, 'create_time': '2020-03-03 23:42:22', 'update_time': '2024-08-08 20:34:58.984879', 'cart_id': None, 'member_id': 3, 'review_star': 4.65, 'product_quanity': 394}, {'product_id': 10, 'product_name': '간식_과자_528', 'product_explanation': 'This is a 과자 product in the 간식 category', 'product_image': 'data_image/image_10.JPG', 'product_price': 41290, 'product_inventory': 47, 'category': '간식/과자', 'discount': 36, 'create_time': '2021-09-14 11:34:14', 'update_time': '2024-08-08 20:34:58.984887', 'cart_id': None, 'member_id': 4, 'review_star': 2.21, 'product_quanity': 381}, {'product_id': 11, 'product_name': '간식_초콜릿-젤리_90', 'product_explanation': 'This is a 초콜릿-젤리 product in the 간식 category', 'product_image': 'data_image/image_11.JPG', 'product_price': 40601, 'product_inventory': 97, 'category': '간식/초콜릿-젤리', 'discount': 43, 'create_time': '2022-09-23 15:05:22', 'update_time': '2024-08-08 20:34:58.984895', 'cart_id': None, 'member_id': 2, 'review_star': 4.35, 'product_quanity': 27}, {'product_id': 12, 'product_name': '간식_초콜릿-젤리_770', 'product_explanation': 'This is a 초콜릿-젤리 product in the 간식 category', 'product_image': 'data_image/image_12.JPG', 'product_price': 47433, 'product_inventory': 32, 'category': '간식/초콜릿-젤리', 'discount': 14, 'create_time': '2021-01-14 21:43:29', 'update_time': '2024-08-08 20:34:58.984903', 'cart_id': None, 'member_id': 5, 'review_star': 2.39, 'product_quanity': 101}, {'product_id': 13, 'product_name': '간식_초콜릿-젤리_699', 'product_explanation': 'This is a 초콜릿-젤리 product in the 간식 category', 'product_image': 'data_image/image_13.JPG', 'product_price': 60125, 'product_inventory': 83, 'category': '간식/초콜릿-젤리', 'discount': 24, 'create_time': '2022-07-08 07:45:48', 'update_time': '2024-08-08 20:34:58.984910', 'cart_id': None, 'member_id': 9, 'review_star': 1.54, 'product_quanity': 275}, {'product_id': 14, 'product_name': '간식_초콜릿-젤리_407', 'product_explanation': 'This is a 초콜릿-젤리 product in the 간식 category', 'product_image': 'data_image/image_14.JPG', 'product_price': 66937, 'product_inventory': 56, 'category': '간식/초콜릿-젤리', 'discount': 27, 'create_time': '2020-03-31 01:45:17', 'update_time': '2024-08-08 20:34:58.984918', 'cart_id': None, 'member_id': 3, 'review_star': 2.92, 'product_quanity': 29}, {'product_id': 15, 'product_name': '간식_초콜릿-젤리_985', 'product_explanation': 'This is a 초콜릿-젤리 product in the 간식 category', 'product_image': 'data_image/image_15.JPG', 'product_price': 4826, 'product_inventory': 8, 'category': '간식/초콜릿-젤리', 'discount': 50, 'create_time': '2022-02-02 03:13:56', 'update_time': '2024-08-08 20:34:58.984926', 'cart_id': None, 'member_id': 2, 'review_star': 3.46, 'product_quanity': 426}, {'product_id': 16, 'product_name': '간식_초콜릿-젤리_387', 'product_explanation': 'This is a 초콜릿-젤리 product in the 간식 category', 'product_image': 'data_image/image_16.JPG', 'product_price': 19868, 'product_inventory': 74, 'category': '간식/초콜릿-젤리', 'discount': 10, 'create_time': '2020-06-16 23:40:42', 'update_time': '2024-08-08 20:34:58.984933', 'cart_id': None, 'member_id': 4, 'review_star': 1.88, 'product_quanity': 32}, {'product_id': 17, 'product_name': '간식_초콜릿-젤리_256', 'product_explanation': 'This is a 초콜릿-젤리 product in the 간식 category', 'product_image': 'data_image/image_17.JPG', 'product_price': 1304, 'product_inventory': 25, 'category': '간식/초콜릿-젤리', 'discount': 39, 'create_time': '2022-09-04 16:18:56', 'update_time': '2024-08-08 20:34:58.984940', 'cart_id': None, 'member_id': 3, 'review_star': 2.47, 'product_quanity': 484}, {'product_id': 18, 'product_name': '간식_초콜릿-젤리_955', 'product_explanation': 'This is a 초콜릿-젤리 product in the 간식 category', 'product_image': 'data_image/image_18.JPG', 'product_price': 71013, 'product_inventory': 17, 'category': '간식/초콜릿-젤리', 'discount': 23, 'create_time': '2023-08-19 02:18:56', 'update_time': '2024-08-08 20:34:58.984948', 'cart_id': None, 'member_id': 3, 'review_star': 2.8, 'product_quanity': 289}, {'product_id': 19, 'product_name': '간식_초콜릿-젤리_39', 'product_explanation': 'This is a 초콜릿-젤리 product in the 간식 category', 'product_image': 'data_image/image_19.JPG', 'product_price': 43925, 'product_inventory': 10, 'category': '간식/초콜릿-젤리', 'discount': 44, 'create_time': '2023-03-03 11:53:53', 'update_time': '2024-08-08 20:34:58.984956', 'cart_id': None, 'member_id': 7, 'review_star': 3.3, 'product_quanity': 149}, {'product_id': 20, 'product_name': '간식_초콜릿-젤리_518', 'product_explanation': 'This is a 초콜릿-젤리 product in the 간식 category', 'product_image': 'data_image/image_20.JPG', 'product_price': 71710, 'product_inventory': 72, 'category': '간식/초콜릿-젤리', 'discount': 24, 'create_time': '2020-01-29 17:12:17', 'update_time': '2024-08-08 20:34:58.984963', 'cart_id': None, 'member_id': 1, 'review_star': 4.73, 'product_quanity': 499}, {'product_id': 21, 'product_name': '와인-위스키_레드와인_1', 'product_explanation': 'This is a 레드와인 product in the 와인-위스키 category', 'product_image': 'data_image/image_21.JPG', 'product_price': 57473, 'product_inventory': 3, 'category': '와인-위스키/레드와인', 'discount': 14, 'create_time': '2021-12-14 02:02:00', 'update_time': '2024-08-08 20:34:58.984975', 'cart_id': None, 'member_id': 7, 'review_star': 1.49, 'product_quanity': 49}, {'product_id': 22, 'product_name': '와인-위스키_레드와인_233', 'product_explanation': 'This is a 레드와인 product in the 와인-위스키 category', 'product_image': 'data_image/image_22.JPG', 'product_price': 82804, 'product_inventory': 86, 'category': '와인-위스키/레드와인', 'discount': 11, 'create_time': '2023-12-02 21:12:32', 'update_time': '2024-08-08 20:34:58.984983', 'cart_id': None, 'member_id': 3, 'review_star': 2.15, 'product_quanity': 219}, {'product_id': 23, 'product_name': '와인-위스키_레드와인_185', 'product_explanation': 'This is a 레드와인 product in the 와인-위스키 category', 'product_image': 'data_image/image_23.JPG', 'product_price': 86305, 'product_inventory': 37, 'category': '와인-위스키/레드와인', 'discount': 25, 'create_time': '2021-02-27 01:20:31', 'update_time': '2024-08-08 20:34:58.984991', 'cart_id': None, 'member_id': 10, 'review_star': 2.84, 'product_quanity': 485}, {'product_id': 24, 'product_name': '와인-위스키_레드와인_150', 'product_explanation': 'This is a 레드와인 product in the 와인-위스키 category', 'product_image': 'data_image/image_24.JPG', 'product_price': 9945, 'product_inventory': 49, 'category': '와인-위스키/레드와인', 'discount': 38, 'create_time': '2020-06-22 06:09:46', 'update_time': '2024-08-08 20:34:58.984999', 'cart_id': None, 'member_id': 9, 'review_star': 4.71, 'product_quanity': 412}, {'product_id': 25, 'product_name': '와인-위스키_레드와인_770', 'product_explanation': 'This is a 레드와인 product in the 와인-위스키 category', 'product_image': 'data_image/image_25.JPG', 'product_price': 11093, 'product_inventory': 29, 'category': '와인-위스키/레드와인', 'discount': 41, 'create_time': '2023-07-24 15:56:11', 'update_time': '2024-08-08 20:34:58.985007', 'cart_id': None, 'member_id': 9, 'review_star': 1.35, 'product_quanity': 399}, {'product_id': 26, 'product_name': '와인-위스키_레드와인_903', 'product_explanation': 'This is a 레드와인 product in the 와인-위스키 category', 'product_image': 'data_image/image_26.JPG', 'product_price': 51254, 'product_inventory': 58, 'category': '와인-위스키/레드와인', 'discount': 31, 'create_time': '2023-09-27 13:54:04', 'update_time': '2024-08-08 20:34:58.985014', 'cart_id': None, 'member_id': 7, 'review_star': 4.27, 'product_quanity': 415}, {'product_id': 27, 'product_name': '와인-위스키_레드와인_797', 'product_explanation': 'This is a 레드와인 product in the 와인-위스키 category', 'product_image': 'data_image/image_27.JPG', 'product_price': 38199, 'product_inventory': 9, 'category': '와인-위스키/레드와인', 'discount': 4, 'create_time': '2020-02-13 00:17:23', 'update_time': '2024-08-08 20:34:58.985022', 'cart_id': None, 'member_id': 4, 'review_star': 3.72, 'product_quanity': 17}, {'product_id': 28, 'product_name': '와인-위스키_레드와인_141', 'product_explanation': 'This is a 레드와인 product in the 와인-위스키 category', 'product_image': 'data_image/image_28.JPG', 'product_price': 3755, 'product_inventory': 73, 'category': '와인-위스키/레드와인', 'discount': 39, 'create_time': '2022-03-09 04:56:42', 'update_time': '2024-08-08 20:34:58.985029', 'cart_id': None, 'member_id': 1, 'review_star': 1.85, 'product_quanity': 204}, {'product_id': 29, 'product_name': '와인-위스키_레드와인_522', 'product_explanation': 'This is a 레드와인 product in the 와인-위스키 category', 'product_image': 'data_image/image_29.JPG', 'product_price': 2907, 'product_inventory': 13, 'category': '와인-위스키/레드와인', 'discount': 38, 'create_time': '2020-02-08 02:01:45', 'update_time': '2024-08-08 20:34:58.985036', 'cart_id': None, 'member_id': 10, 'review_star': 1.57, 'product_quanity': 403}, {'product_id': 30, 'product_name': '와인-위스키_레드와인_966', 'product_explanation': 'This is a 레드와인 product in the 와인-위스키 category', 'product_image': 'data_image/image_30.JPG', 'product_price': 40155, 'product_inventory': 64, 'category': '와인-위스키/레드와인', 'discount': 49, 'create_time': '2022-04-13 15:10:49', 'update_time': '2024-08-08 20:34:58.985044', 'cart_id': None, 'member_id': 10, 'review_star': 1.07, 'product_quanity': 155}, {'product_id': 31, 'product_name': '와인-위스키_화이트-로제와인_837', 'product_explanation': 'This is a 화이트-로제와인 product in the 와인-위스키 category', 'product_image': 'data_image/image_31.JPG', 'product_price': 87690, 'product_inventory': 97, 'category': '와인-위스키/화이트-로제와인', 'discount': 6, 'create_time': '2023-09-24 12:37:26', 'update_time': '2024-08-08 20:34:58.985051', 'cart_id': None, 'member_id': 7, 'review_star': 2.39, 'product_quanity': 272}, {'product_id': 32, 'product_name': '와인-위스키_화이트-로제와인_558', 'product_explanation': 'This is a 화이트-로제와인 product in the 와인-위스키 category', 'product_image': 'data_image/image_32.JPG', 'product_price': 18520, 'product_inventory': 66, 'category': '와인-위스키/화이트-로제와인', 'discount': 3, 'create_time': '2022-02-27 23:25:45', 'update_time': '2024-08-08 20:34:58.985059', 'cart_id': None, 'member_id': 7, 'review_star': 2.65, 'product_quanity': 329}, {'product_id': 33, 'product_name': '와인-위스키_화이트-로제와인_857', 'product_explanation': 'This is a 화이트-로제와인 product in the 와인-위스키 category', 'product_image': 'data_image/image_33.JPG', 'product_price': 15899, 'product_inventory': 18, 'category': '와인-위스키/화이트-로제와인', 'discount': 16, 'create_time': '2022-08-30 07:07:56', 'update_time': '2024-08-08 20:34:58.985067', 'cart_id': None, 'member_id': 9, 'review_star': 4.74, 'product_quanity': 280}, {'product_id': 34, 'product_name': '와인-위스키_화이트-로제와인_239', 'product_explanation': 'This is a 화이트-로제와인 product in the 와인-위스키 category', 'product_image': 'data_image/image_34.JPG', 'product_price': 85238, 'product_inventory': 1, 'category': '와인-위스키/화이트-로제와인', 'discount': 1, 'create_time': '2020-08-09 02:48:30', 'update_time': '2024-08-08 20:34:58.985076', 'cart_id': None, 'member_id': 8, 'review_star': 1.5, 'product_quanity': 237}, {'product_id': 35, 'product_name': '와인-위스키_화이트-로제와인_119', 'product_explanation': 'This is a 화이트-로제와인 product in the 와인-위스키 category', 'product_image': 'data_image/image_35.JPG', 'product_price': 20322, 'product_inventory': 51, 'category': '와인-위스키/화이트-로제와인', 'discount': 37, 'create_time': '2022-02-27 08:45:27', 'update_time': '2024-08-08 20:34:58.985085', 'cart_id': None, 'member_id': 6, 'review_star': 4.59, 'product_quanity': 85}, {'product_id': 36, 'product_name': '와인-위스키_화이트-로제와인_665', 'product_explanation': 'This is a 화이트-로제와인 product in the 와인-위스키 category', 'product_image': 'data_image/image_36.JPG', 'product_price': 60572, 'product_inventory': 3, 'category': '와인-위스키/화이트-로제와인', 'discount': 4, 'create_time': '2020-12-06 11:55:08', 'update_time': '2024-08-08 20:34:58.985094', 'cart_id': None, 'member_id': 1, 'review_star': 3.46, 'product_quanity': 119}, {'product_id': 37, 'product_name': '와인-위스키_화이트-로제와인_686', 'product_explanation': 'This is a 화이트-로제와인 product in the 와인-위스키 category', 'product_image': 'data_image/image_37.JPG', 'product_price': 49623, 'product_inventory': 20, 'category': '와인-위스키/화이트-로제와인', 'discount': 43, 'create_time': '2021-01-24 10:48:29', 'update_time': '2024-08-08 20:34:58.985103', 'cart_id': None, 'member_id': 8, 'review_star': 3.92, 'product_quanity': 356}, {'product_id': 38, 'product_name': '와인-위스키_화이트-로제와인_421', 'product_explanation': 'This is a 화이트-로제와인 product in the 와인-위스키 category', 'product_image': 'data_image/image_38.JPG', 'product_price': 3658, 'product_inventory': 99, 'category': '와인-위스키/화이트-로제와인', 'discount': 36, 'create_time': '2020-01-31 07:45:17', 'update_time': '2024-08-08 20:34:58.985112', 'cart_id': None, 'member_id': 9, 'review_star': 2.28, 'product_quanity': 397}, {'product_id': 39, 'product_name': '와인-위스키_화이트-로제와인_760', 'product_explanation': 'This is a 화이트-로제와인 product in the 와인-위스키 category', 'product_image': 'data_image/image_39.JPG', 'product_price': 53724, 'product_inventory': 25, 'category': '와인-위스키/화이트-로제와인', 'discount': 46, 'create_time': '2021-10-16 01:18:13', 'update_time': '2024-08-08 20:34:58.985119', 'cart_id': None, 'member_id': 2, 'review_star': 3.02, 'product_quanity': 92}, {'product_id': 40, 'product_name': '와인-위스키_화이트-로제와인_850', 'product_explanation': 'This is a 화이트-로제와인 product in the 와인-위스키 category', 'product_image': 'data_image/image_40.JPG', 'product_price': 39648, 'product_inventory': 12, 'category': '와인-위스키/화이트-로제와인', 'discount': 25, 'create_time': '2023-03-19 14:00:14', 'update_time': '2024-08-08 20:34:58.985127', 'cart_id': None, 'member_id': 1, 'review_star': 2.23, 'product_quanity': 294}, {'product_id': 41, 'product_name': '유제품_우유_두유_425', 'product_explanation': 'This is a 우유_두유 product in the 유제품 category', 'product_image': 'data_image/image_41.JPG', 'product_price': 26570, 'product_inventory': 96, 'category': '유제품/우유_두유', 'discount': 41, 'create_time': '2022-04-10 01:59:27', 'update_time': '2024-08-08 20:34:58.985136', 'cart_id': None, 'member_id': 1, 'review_star': 1.98, 'product_quanity': 380}, {'product_id': 42, 'product_name': '유제품_우유_두유_863', 'product_explanation': 'This is a 우유_두유 product in the 유제품 category', 'product_image': 'data_image/image_42.JPG', 'product_price': 19478, 'product_inventory': 7, 'category': '유제품/우유_두유', 'discount': 47, 'create_time': '2023-01-15 09:01:49', 'update_time': '2024-08-08 20:34:58.985144', 'cart_id': None, 'member_id': 2, 'review_star': 5.0, 'product_quanity': 172}, {'product_id': 43, 'product_name': '유제품_우유_두유_947', 'product_explanation': 'This is a 우유_두유 product in the 유제품 category', 'product_image': 'data_image/image_43.JPG', 'product_price': 13006, 'product_inventory': 70, 'category': '유제품/우유_두유', 'discount': 3, 'create_time': '2021-10-31 11:24:30', 'update_time': '2024-08-08 20:34:58.985151', 'cart_id': None, 'member_id': 10, 'review_star': 1.54, 'product_quanity': 213}, {'product_id': 44, 'product_name': '유제품_우유_두유_444', 'product_explanation': 'This is a 우유_두유 product in the 유제품 category', 'product_image': 'data_image/image_44.JPG', 'product_price': 80694, 'product_inventory': 90, 'category': '유제품/우유_두유', 'discount': 31, 'create_time': '2020-07-13 15:03:28', 'update_time': '2024-08-08 20:34:58.985158', 'cart_id': None, 'member_id': 3, 'review_star': 4.32, 'product_quanity': 97}, {'product_id': 45, 'product_name': '유제품_우유_두유_132', 'product_explanation': 'This is a 우유_두유 product in the 유제품 category', 'product_image': 'data_image/image_45.JPG', 'product_price': 91100, 'product_inventory': 100, 'category': '유제품/우유_두유', 'discount': 1, 'create_time': '2023-06-01 08:18:23', 'update_time': '2024-08-08 20:34:58.985165', 'cart_id': None, 'member_id': 7, 'review_star': 4.35, 'product_quanity': 439}, {'product_id': 46, 'product_name': '유제품_우유_두유_875', 'product_explanation': 'This is a 우유_두유 product in the 유제품 category', 'product_image': 'data_image/image_46.JPG', 'product_price': 30556, 'product_inventory': 83, 'category': '유제품/우유_두유', 'discount': 24, 'create_time': '2020-01-08 03:17:44', 'update_time': '2024-08-08 20:34:58.985173', 'cart_id': None, 'member_id': 7, 'review_star': 2.85, 'product_quanity': 61}, {'product_id': 47, 'product_name': '유제품_우유_두유_965', 'product_explanation': 'This is a 우유_두유 product in the 유제품 category', 'product_image': 'data_image/image_47.JPG', 'product_price': 29455, 'product_inventory': 88, 'category': '유제품/우유_두유', 'discount': 14, 'create_time': '2022-12-10 10:01:11', 'update_time': '2024-08-08 20:34:58.985180', 'cart_id': None, 'member_id': 6, 'review_star': 4.26, 'product_quanity': 144}, {'product_id': 48, 'product_name': '유제품_우유_두유_218', 'product_explanation': 'This is a 우유_두유 product in the 유제품 category', 'product_image': 'data_image/image_48.JPG', 'product_price': 26277, 'product_inventory': 22, 'category': '유제품/우유_두유', 'discount': 28, 'create_time': '2022-04-25 10:52:01', 'update_time': '2024-08-08 20:34:58.985187', 'cart_id': None, 'member_id': 8, 'review_star': 3.81, 'product_quanity': 297}, {'product_id': 49, 'product_name': '유제품_우유_두유_557', 'product_explanation': 'This is a 우유_두유 product in the 유제품 category', 'product_image': 'data_image/image_49.JPG', 'product_price': 68180, 'product_inventory': 100, 'category': '유제품/우유_두유', 'discount': 45, 'create_time': '2023-04-21 16:04:23', 'update_time': '2024-08-08 20:34:58.985197', 'cart_id': None, 'member_id': 2, 'review_star': 1.43, 'product_quanity': 111}, {'product_id': 50, 'product_name': '유제품_우유_두유_152', 'product_explanation': 'This is a 우유_두유 product in the 유제품 category', 'product_image': 'data_image/image_50.JPG', 'product_price': 8847, 'product_inventory': 88, 'category': '유제품/우유_두유', 'discount': 4, 'create_time': '2023-12-04 17:41:53', 'update_time': '2024-08-08 20:34:58.985205', 'cart_id': None, 'member_id': 6, 'review_star': 3.26, 'product_quanity': 199}, {'product_id': 51, 'product_name': '유제품_아이스크림_505', 'product_explanation': 'This is a 아이스크림 product in the 유제품 category', 'product_image': 'data_image/image_51.JPG', 'product_price': 65872, 'product_inventory': 48, 'category': '유제품/아이스크림', 'discount': 17, 'create_time': '2022-02-08 01:19:57', 'update_time': '2024-08-08 20:34:58.985212', 'cart_id': None, 'member_id': 1, 'review_star': 2.37, 'product_quanity': 35}, {'product_id': 52, 'product_name': '유제품_아이스크림_168', 'product_explanation': 'This is a 아이스크림 product in the 유제품 category', 'product_image': 'data_image/image_52.JPG', 'product_price': 94547, 'product_inventory': 51, 'category': '유제품/아이스크림', 'discount': 4, 'create_time': '2020-05-29 23:31:26', 'update_time': '2024-08-08 20:34:58.985220', 'cart_id': None, 'member_id': 5, 'review_star': 4.6, 'product_quanity': 403}, {'product_id': 53, 'product_name': '유제품_아이스크림_628', 'product_explanation': 'This is a 아이스크림 product in the 유제품 category', 'product_image': 'data_image/image_53.JPG', 'product_price': 77722, 'product_inventory': 13, 'category': '유제품/아이스크림', 'discount': 7, 'create_time': '2022-05-28 00:32:32', 'update_time': '2024-08-08 20:34:58.985227', 'cart_id': None, 'member_id': 2, 'review_star': 3.94, 'product_quanity': 472}, {'product_id': 54, 'product_name': '유제품_아이스크림_886', 'product_explanation': 'This is a 아이스크림 product in the 유제품 category', 'product_image': 'data_image/image_54.JPG', 'product_price': 19536, 'product_inventory': 12, 'category': '유제품/아이스크림', 'discount': 1, 'create_time': '2020-03-08 03:30:05', 'update_time': '2024-08-08 20:34:58.985234', 'cart_id': None, 'member_id': 3, 'review_star': 4.86, 'product_quanity': 11}, {'product_id': 55, 'product_name': '유제품_아이스크림_600', 'product_explanation': 'This is a 아이스크림 product in the 유제품 category', 'product_image': 'data_image/image_55.JPG', 'product_price': 69406, 'product_inventory': 68, 'category': '유제품/아이스크림', 'discount': 15, 'create_time': '2021-06-13 09:51:40', 'update_time': '2024-08-08 20:34:58.985242', 'cart_id': None, 'member_id': 1, 'review_star': 4.95, 'product_quanity': 217}, {'product_id': 56, 'product_name': '유제품_아이스크림_397', 'product_explanation': 'This is a 아이스크림 product in the 유제품 category', 'product_image': 'data_image/image_56.JPG', 'product_price': 4864, 'product_inventory': 68, 'category': '유제품/아이스크림', 'discount': 8, 'create_time': '2020-08-28 04:31:13', 'update_time': '2024-08-08 20:34:58.985249', 'cart_id': None, 'member_id': 4, 'review_star': 3.94, 'product_quanity': 137}, {'product_id': 57, 'product_name': '유제품_아이스크림_42', 'product_explanation': 'This is a 아이스크림 product in the 유제품 category', 'product_image': 'data_image/image_57.JPG', 'product_price': 65376, 'product_inventory': 47, 'category': '유제품/아이스크림', 'discount': 23, 'create_time': '2021-01-25 06:09:34', 'update_time': '2024-08-08 20:34:58.985256', 'cart_id': None, 'member_id': 8, 'review_star': 2.63, 'product_quanity': 143}, {'product_id': 58, 'product_name': '유제품_아이스크림_311', 'product_explanation': 'This is a 아이스크림 product in the 유제품 category', 'product_image': 'data_image/image_58.JPG', 'product_price': 31805, 'product_inventory': 29, 'category': '유제품/아이스크림', 'discount': 1, 'create_time': '2022-03-02 08:54:25', 'update_time': '2024-08-08 20:34:58.985264', 'cart_id': None, 'member_id': 2, 'review_star': 3.08, 'product_quanity': 189}, {'product_id': 59, 'product_name': '유제품_아이스크림_385', 'product_explanation': 'This is a 아이스크림 product in the 유제품 category', 'product_image': 'data_image/image_59.JPG', 'product_price': 86283, 'product_inventory': 0, 'category': '유제품/아이스크림', 'discount': 17, 'create_time': '2021-03-21 10:16:33', 'update_time': '2024-08-08 20:34:58.985271', 'cart_id': None, 'member_id': 9, 'review_star': 1.73, 'product_quanity': 363}, {'product_id': 60, 'product_name': '유제품_아이스크림_290', 'product_explanation': 'This is a 아이스크림 product in the 유제품 category', 'product_image': 'data_image/image_60.JPG', 'product_price': 57046, 'product_inventory': 38, 'category': '유제품/아이스크림', 'discount': 22, 'create_time': '2021-02-13 12:32:33', 'update_time': '2024-08-08 20:34:58.985278', 'cart_id': None, 'member_id': 6, 'review_star': 2.32, 'product_quanity': 341}, {'product_id': 61, 'product_name': '정육-가공육_소고기_694', 'product_explanation': 'This is a 소고기 product in the 정육-가공육 category', 'product_image': 'data_image/image_61.JPG', 'product_price': 82802, 'product_inventory': 19, 'category': '정육-가공육/소고기', 'discount': 27, 'create_time': '2023-09-07 22:27:49', 'update_time': '2024-08-08 20:34:58.985285', 'cart_id': None, 'member_id': 1, 'review_star': 2.16, 'product_quanity': 272}, {'product_id': 62, 'product_name': '정육-가공육_소고기_578', 'product_explanation': 'This is a 소고기 product in the 정육-가공육 category', 'product_image': 'data_image/image_62.JPG', 'product_price': 86771, 'product_inventory': 58, 'category': '정육-가공육/소고기', 'discount': 47, 'create_time': '2023-01-31 14:24:18', 'update_time': '2024-08-08 20:34:58.985294', 'cart_id': None, 'member_id': 6, 'review_star': 2.8, 'product_quanity': 399}, {'product_id': 63, 'product_name': '정육-가공육_소고기_597', 'product_explanation': 'This is a 소고기 product in the 정육-가공육 category', 'product_image': 'data_image/image_63.JPG', 'product_price': 17874, 'product_inventory': 82, 'category': '정육-가공육/소고기', 'discount': 15, 'create_time': '2023-07-25 01:45:24', 'update_time': '2024-08-08 20:34:58.985302', 'cart_id': None, 'member_id': 6, 'review_star': 4.61, 'product_quanity': 441}, {'product_id': 64, 'product_name': '정육-가공육_소고기_556', 'product_explanation': 'This is a 소고기 product in the 정육-가공육 category', 'product_image': 'data_image/image_64.JPG', 'product_price': 38336, 'product_inventory': 46, 'category': '정육-가공육/소고기', 'discount': 22, 'create_time': '2023-03-24 09:44:44', 'update_time': '2024-08-08 20:34:58.985309', 'cart_id': None, 'member_id': 3, 'review_star': 3.35, 'product_quanity': 305}, {'product_id': 65, 'product_name': '정육-가공육_소고기_908', 'product_explanation': 'This is a 소고기 product in the 정육-가공육 category', 'product_image': 'data_image/image_65.JPG', 'product_price': 24221, 'product_inventory': 38, 'category': '정육-가공육/소고기', 'discount': 49, 'create_time': '2020-12-06 00:52:49', 'update_time': '2024-08-08 20:34:58.985318', 'cart_id': None, 'member_id': 5, 'review_star': 4.07, 'product_quanity': 61}, {'product_id': 66, 'product_name': '정육-가공육_소고기_884', 'product_explanation': 'This is a 소고기 product in the 정육-가공육 category', 'product_image': 'data_image/image_66.JPG', 'product_price': 25010, 'product_inventory': 22, 'category': '정육-가공육/소고기', 'discount': 13, 'create_time': '2023-12-15 11:29:00', 'update_time': '2024-08-08 20:34:58.985327', 'cart_id': None, 'member_id': 5, 'review_star': 4.01, 'product_quanity': 457}, {'product_id': 67, 'product_name': '정육-가공육_소고기_977', 'product_explanation': 'This is a 소고기 product in the 정육-가공육 category', 'product_image': 'data_image/image_67.JPG', 'product_price': 55932, 'product_inventory': 94, 'category': '정육-가공육/소고기', 'discount': 50, 'create_time': '2021-05-18 22:52:42', 'update_time': '2024-08-08 20:34:58.985336', 'cart_id': None, 'member_id': 6, 'review_star': 3.41, 'product_quanity': 479}, {'product_id': 68, 'product_name': '정육-가공육_소고기_88', 'product_explanation': 'This is a 소고기 product in the 정육-가공육 category', 'product_image': 'data_image/image_68.JPG', 'product_price': 33845, 'product_inventory': 64, 'category': '정육-가공육/소고기', 'discount': 47, 'create_time': '2023-03-27 12:49:09', 'update_time': '2024-08-08 20:34:58.985345', 'cart_id': None, 'member_id': 6, 'review_star': 4.07, 'product_quanity': 293}, {'product_id': 69, 'product_name': '정육-가공육_소고기_569', 'product_explanation': 'This is a 소고기 product in the 정육-가공육 category', 'product_image': 'data_image/image_69.JPG', 'product_price': 59682, 'product_inventory': 73, 'category': '정육-가공육/소고기', 'discount': 9, 'create_time': '2023-06-20 16:55:04', 'update_time': '2024-08-08 20:34:58.985354', 'cart_id': None, 'member_id': 8, 'review_star': 4.69, 'product_quanity': 112}, {'product_id': 70, 'product_name': '정육-가공육_소고기_567', 'product_explanation': 'This is a 소고기 product in the 정육-가공육 category', 'product_image': 'data_image/image_70.JPG', 'product_price': 61931, 'product_inventory': 55, 'category': '정육-가공육/소고기', 'discount': 34, 'create_time': '2023-03-30 13:34:10', 'update_time': '2024-08-08 20:34:58.985362', 'cart_id': None, 'member_id': 3, 'review_star': 1.95, 'product_quanity': 186}, {'product_id': 71, 'product_name': '정육-가공육_돼지고기_821', 'product_explanation': 'This is a 돼지고기 product in the 정육-가공육 category', 'product_image': 'data_image/image_71.JPG', 'product_price': 56762, 'product_inventory': 21, 'category': '정육-가공육/돼지고기', 'discount': 42, 'create_time': '2022-10-04 02:19:28', 'update_time': '2024-08-08 20:34:58.985370', 'cart_id': None, 'member_id': 3, 'review_star': 4.71, 'product_quanity': 230}, {'product_id': 72, 'product_name': '정육-가공육_돼지고기_382', 'product_explanation': 'This is a 돼지고기 product in the 정육-가공육 category', 'product_image': 'data_image/image_72.JPG', 'product_price': 39642, 'product_inventory': 28, 'category': '정육-가공육/돼지고기', 'discount': 48, 'create_time': '2023-06-08 19:33:26', 'update_time': '2024-08-08 20:34:58.985378', 'cart_id': None, 'member_id': 7, 'review_star': 4.89, 'product_quanity': 206}, {'product_id': 73, 'product_name': '정육-가공육_돼지고기_561', 'product_explanation': 'This is a 돼지고기 product in the 정육-가공육 category', 'product_image': 'data_image/image_73.JPG', 'product_price': 10212, 'product_inventory': 53, 'category': '정육-가공육/돼지고기', 'discount': 2, 'create_time': '2020-12-22 07:04:02', 'update_time': '2024-08-08 20:34:58.985386', 'cart_id': None, 'member_id': 10, 'review_star': 3.23, 'product_quanity': 106}, {'product_id': 74, 'product_name': '정육-가공육_돼지고기_265', 'product_explanation': 'This is a 돼지고기 product in the 정육-가공육 category', 'product_image': 'data_image/image_74.JPG', 'product_price': 73082, 'product_inventory': 45, 'category': '정육-가공육/돼지고기', 'discount': 41, 'create_time': '2021-04-01 03:08:05', 'update_time': '2024-08-08 20:34:58.985394', 'cart_id': None, 'member_id': 4, 'review_star': 2.84, 'product_quanity': 299}, {'product_id': 75, 'product_name': '정육-가공육_돼지고기_432', 'product_explanation': 'This is a 돼지고기 product in the 정육-가공육 category', 'product_image': 'data_image/image_75.JPG', 'product_price': 73669, 'product_inventory': 8, 'category': '정육-가공육/돼지고기', 'discount': 25, 'create_time': '2022-03-21 20:55:49', 'update_time': '2024-08-08 20:34:58.985402', 'cart_id': None, 'member_id': 5, 'review_star': 2.44, 'product_quanity': 147}, {'product_id': 76, 'product_name': '정육-가공육_돼지고기_336', 'product_explanation': 'This is a 돼지고기 product in the 정육-가공육 category', 'product_image': 'data_image/image_76.JPG', 'product_price': 32114, 'product_inventory': 76, 'category': '정육-가공육/돼지고기', 'discount': 25, 'create_time': '2022-09-18 18:35:39', 'update_time': '2024-08-08 20:34:58.985409', 'cart_id': None, 'member_id': 9, 'review_star': 3.68, 'product_quanity': 446}, {'product_id': 77, 'product_name': '정육-가공육_돼지고기_577', 'product_explanation': 'This is a 돼지고기 product in the 정육-가공육 category', 'product_image': 'data_image/image_77.JPG', 'product_price': 72560, 'product_inventory': 25, 'category': '정육-가공육/돼지고기', 'discount': 16, 'create_time': '2020-11-14 08:38:07', 'update_time': '2024-08-08 20:34:58.985419', 'cart_id': None, 'member_id': 10, 'review_star': 3.46, 'product_quanity': 73}, {'product_id': 78, 'product_name': '정육-가공육_돼지고기_242', 'product_explanation': 'This is a 돼지고기 product in the 정육-가공육 category', 'product_image': 'data_image/image_78.JPG', 'product_price': 22053, 'product_inventory': 45, 'category': '정육-가공육/돼지고기', 'discount': 29, 'create_time': '2023-09-14 16:02:43', 'update_time': '2024-08-08 20:34:58.985428', 'cart_id': None, 'member_id': 8, 'review_star': 4.74, 'product_quanity': 240}, {'product_id': 79, 'product_name': '정육-가공육_돼지고기_97', 'product_explanation': 'This is a 돼지고기 product in the 정육-가공육 category', 'product_image': 'data_image/image_79.JPG', 'product_price': 77356, 'product_inventory': 23, 'category': '정육-가공육/돼지고기', 'discount': 41, 'create_time': '2020-06-12 13:12:04', 'update_time': '2024-08-08 20:34:58.985435', 'cart_id': None, 'member_id': 10, 'review_star': 2.17, 'product_quanity': 385}, {'product_id': 80, 'product_name': '정육-가공육_돼지고기_301', 'product_explanation': 'This is a 돼지고기 product in the 정육-가공육 category', 'product_image': 'data_image/image_80.JPG', 'product_price': 51532, 'product_inventory': 11, 'category': '정육-가공육/돼지고기', 'discount': 22, 'create_time': '2022-06-01 06:10:29', 'update_time': '2024-08-08 20:34:58.985443', 'cart_id': None, 'member_id': 4, 'review_star': 1.92, 'product_quanity': 384}]\n"
          ]
        }
      ],
      "source": [
        "# json data load (products.json)\n",
        "import json\n",
        "\n",
        "with open('/Users/daehyunkim_kakao/Desktop/Kakao Business (Project)/Kakaotech-18-AI/dummy_data/products.json', 'r') as file:\n",
        "  products = json.load(file)\n",
        "\n",
        "print(products)"
      ]
    },
    {
      "cell_type": "code",
      "execution_count": 2,
      "metadata": {
        "colab": {
          "base_uri": "https://localhost:8080/",
          "height": 704
        },
        "id": "POJ67131YWeP",
        "outputId": "24f9d606-9ef8-48ca-aaf7-e2f6a433f9e0"
      },
      "outputs": [
        {
          "ename": "ModuleNotFoundError",
          "evalue": "No module named 'pandas'",
          "output_type": "error",
          "traceback": [
            "\u001b[0;31m---------------------------------------------------------------------------\u001b[0m",
            "\u001b[0;31mModuleNotFoundError\u001b[0m                       Traceback (most recent call last)",
            "Cell \u001b[0;32mIn[2], line 1\u001b[0m\n\u001b[0;32m----> 1\u001b[0m \u001b[38;5;28;01mimport\u001b[39;00m \u001b[38;5;21;01mpandas\u001b[39;00m \u001b[38;5;28;01mas\u001b[39;00m \u001b[38;5;21;01mpd\u001b[39;00m\n\u001b[1;32m      3\u001b[0m products_data \u001b[38;5;241m=\u001b[39m products\n\u001b[1;32m      4\u001b[0m products_df \u001b[38;5;241m=\u001b[39m pd\u001b[38;5;241m.\u001b[39mDataFrame(products_data)\n",
            "\u001b[0;31mModuleNotFoundError\u001b[0m: No module named 'pandas'"
          ]
        }
      ],
      "source": [
        "import pandas as pd\n",
        "\n",
        "products_data = products\n",
        "products_df = pd.DataFrame(products_data)\n",
        "products_df"
      ]
    },
    {
      "cell_type": "markdown",
      "metadata": {
        "id": "IFMaCEEB1T0w"
      },
      "source": [
        "#### Data Type 확인"
      ]
    },
    {
      "cell_type": "code",
      "execution_count": 4,
      "metadata": {
        "colab": {
          "base_uri": "https://localhost:8080/"
        },
        "id": "U1mrHPUQZhbY",
        "outputId": "222fc3f2-39a8-4b11-c7b7-13913dd809ea"
      },
      "outputs": [
        {
          "name": "stdout",
          "output_type": "stream",
          "text": [
            "##########\n",
            "데이터 타입 확인\n",
            "Data Types:\n",
            " product_id               int64\n",
            "product_name            object\n",
            "product_explanation     object\n",
            "product_image           object\n",
            "product_price            int64\n",
            "product_inventory        int64\n",
            "category                object\n",
            "discount                 int64\n",
            "create_time             object\n",
            "update_time             object\n",
            "cart_id                 object\n",
            "member_id                int64\n",
            "review_star            float64\n",
            "product_quanity          int64\n",
            "dtype: object\n",
            "##########\n",
            "범주형 데이터 분리하여 분석\n",
            "\n",
            "Categorical Columns:\n",
            " Index(['product_name', 'product_explanation', 'product_image', 'category',\n",
            "       'create_time', 'update_time', 'cart_id'],\n",
            "      dtype='object')\n",
            "##########\n",
            "수치형 데이터 분리하여 분석\n",
            "\n",
            "Numerical Columns:\n",
            " Index(['product_id', 'product_price', 'product_inventory', 'discount',\n",
            "       'member_id', 'review_star', 'product_quanity'],\n",
            "      dtype='object')\n"
          ]
        }
      ],
      "source": [
        "# 데이터 타입 확인\n",
        "print(\"#\"*10)\n",
        "print(\"데이터 타입 확인\")\n",
        "print(\"Data Types:\\n\", products_df.dtypes)\n",
        "\n",
        "# 범주형 및 수치형 데이터 분리하여 분석\n",
        "product_categorical_cols = products_df.select_dtypes(include=['object', 'category']).columns\n",
        "product_numerical_cols = products_df.select_dtypes(include=['int64', 'float64']).columns\n",
        "\n",
        "print(\"#\"*10)\n",
        "print(\"범주형 데이터 분리하여 분석\")\n",
        "print(\"\\nCategorical Columns:\\n\", product_categorical_cols)\n",
        "\n",
        "print(\"#\"*10)\n",
        "print(\"수치형 데이터 분리하여 분석\")\n",
        "print(\"\\nNumerical Columns:\\n\", product_numerical_cols)"
      ]
    },
    {
      "cell_type": "markdown",
      "metadata": {
        "id": "Gq2XGLfx1WUE"
      },
      "source": [
        "## 콘텐츠 기반 필터링(Content-Based Filtering)을 사용한 이유\n",
        "- 콘텐츠 기반 필터링은 사용자와 항목의 특징(특성)을 분석하여 추천하는 방법입니다. 사용자가 과거에 선호했던 항목들의 특성을 바탕으로 유사한 특성을 가진 항목을 추천합니다.\n",
        "\n",
        "- 개인화된 추천: 사용자의 과거 행동과 선호도를 반영하여 개인화된 추천을 제공할 수 있습니다.\n",
        "- 새로운 항목 추천: 협업 필터링의 콜드 스타트 문제를 피할 수 있으며, 사용자가 새로 추가된 항목도 추천받을 수 있습니다.\n",
        "- 직관적 이해: 사용자가 왜 특정 항목을 추천받았는지 쉽게 이해할 수 있습니다. 특정 특성(예: 가격, 카테고리 등)이 추천 이유가 되기 때문입니다.\n",
        "콘텐츠 기반 필터링을 사용한 이유\n",
        "- 데이터 가용성: 제공된 데이터셋에는 제품, 구매자, 주문, 리뷰 등의 상세한 특성이 포함되어 있어, 각 항목의 특성을 분석하기에 적합했습니다.\n",
        "- 특성 기반 분석: 제품의 가격, 재고, 할인율 등과 같은 구체적인 특성을 기반으로 리뷰 평점과의 관계를 분석하여 추천 모델을 만들 수 있습니다.\n",
        "- 사용자 맞춤 추천: 사용자의 구매 이력과 제품 특성을 기반으로 유사한 제품을 추천할 수 있습니다."
      ]
    },
    {
      "cell_type": "markdown",
      "metadata": {
        "id": "p4TEOMte1CQz"
      },
      "source": [
        "이 추천 시스템은 회귀 모델 기반의 협업 필터링 방식입니다. 다양한 피처를 사용하여 사용자가 항목에 부여할 평점을 예측하고, 이를 기반으로 사용자가 아직 경험하지 않은 항목을 추천합니다. 이 방식은 사용자의 과거 평점 데이터를 활용하여 미래의 평점을 예측하고, 높은 평점을 받을 가능성이 있는 항목을 추천하는 방식입니다."
      ]
    },
    {
      "cell_type": "markdown",
      "metadata": {
        "id": "7eh_FEF5mSJs"
      },
      "source": [
        "#### 데이터 분포 확인"
      ]
    },
    {
      "cell_type": "code",
      "execution_count": 5,
      "metadata": {
        "id": "1s9zSYEwOkEo"
      },
      "outputs": [],
      "source": [
        "from sklearn.metrics.pairwise import cosine_similarity\n",
        "from sklearn.preprocessing import LabelEncoder\n",
        "\n",
        "# 필요한 열만 선택\n",
        "selected_features = ['product_id', 'product_name', 'product_explanation', 'product_image',\n",
        "                     'product_price', 'product_inventory', 'category', 'discount',\n",
        "                     'create_time', 'update_time', 'cart_id', 'member_id',\n",
        "                     'review_star', 'product_quanity']\n",
        "\n",
        "products_df = products_df[selected_features]"
      ]
    },
    {
      "cell_type": "code",
      "execution_count": 6,
      "metadata": {
        "id": "w2qFbsEXq0f_"
      },
      "outputs": [],
      "source": [
        "# 범주형 변수 인코딩\n",
        "label_encoder = LabelEncoder()\n",
        "products_df['category'] = label_encoder.fit_transform(products_df['category'])\n",
        "\n",
        "# 결측값 처리 (리뷰 평점이 없는 행 제거)\n",
        "products_df = products_df.dropna(subset=['review_star'])\n",
        "\n",
        "# 사용자-아이템 행렬을 생성합니다.\n",
        "user_item_matrix = products_df.pivot(index='member_id', columns='product_id', values='review_star').fillna(0)\n",
        "\n",
        "# 아이템 간 유사도를 계산합니다.\n",
        "item_similarity = cosine_similarity(user_item_matrix.T)\n",
        "\n",
        "# 유사도 데이터프레임을 생성합니다.\n",
        "item_similarity_df = pd.DataFrame(item_similarity, index=user_item_matrix.columns, columns=user_item_matrix.columns)\n",
        "\n",
        "def get_similar_items(product_id, num_items=5):\n",
        "    if product_id in item_similarity_df.index:\n",
        "        similar_items = item_similarity_df[product_id].sort_values(ascending=False).head(num_items)\n",
        "        return similar_items\n",
        "    else:\n",
        "        return f\"Product ID {product_id} not found in the dataset\""
      ]
    },
    {
      "cell_type": "code",
      "execution_count": 7,
      "metadata": {
        "colab": {
          "base_uri": "https://localhost:8080/"
        },
        "id": "PlLJJIAEO9ni",
        "outputId": "c83d2919-876f-4cea-a313-b9e280a17e21"
      },
      "outputs": [
        {
          "name": "stdout",
          "output_type": "stream",
          "text": [
            "Available Product IDs: [1, 2, 3, 4, 5, 6, 7, 8, 9, 10, 11, 12, 13, 14, 15, 16, 17, 18, 19, 20, 21, 22, 23, 24, 25, 26, 27, 28, 29, 30, 31, 32, 33, 34, 35, 36, 37, 38, 39, 40, 41, 42, 43, 44, 45, 46, 47, 48, 49, 50, 51, 52, 53, 54, 55, 56, 57, 58, 59, 60, 61, 62, 63, 64, 65, 66, 67, 68, 69, 70, 71, 72, 73, 74, 75, 76, 77, 78, 79, 80]\n",
            "Similar items to product ID 1:\n",
            "product_id\n",
            "1     1.0\n",
            "75    1.0\n",
            "65    1.0\n",
            "66    1.0\n",
            "52    1.0\n",
            "Name: 1, dtype: float64\n"
          ]
        }
      ],
      "source": [
        "# 데이터셋에 있는 product_id들을 출력합니다.\n",
        "available_product_ids = item_similarity_df.index.tolist()\n",
        "print(\"Available Product IDs:\", available_product_ids)\n",
        "\n",
        "# 특정 제품과 유사한 제품 추천\n",
        "product_id_to_check = available_product_ids[0]  # 유효한 제품 ID 중 하나 선택\n",
        "print(f\"Similar items to product ID {product_id_to_check}:\")\n",
        "print(get_similar_items(product_id_to_check, 5))"
      ]
    },
    {
      "cell_type": "markdown",
      "metadata": {
        "id": "BCF2znpO0RnP"
      },
      "source": [
        "#### Product Price (상품 가격):\n",
        "- 가장 높은 중요도를 보입니다. 이는 product_price가 review_star 예측에 가장 큰 영향을 미친다는 것을 의미합니다. 즉, 상품 가격이 리뷰 평점에 매우 중요한 역할을 한다고 볼 수 있습니다.\n",
        "\n",
        "#### Order Price (주문 가격):\n",
        "- 두 번째로 높은 중요도를 보입니다. 이는 order_price가 리뷰 평점에 상당히 중요한 영향을 미친다는 것을 의미합니다. 주문 시 총 가격이 리뷰 평점에 영향을 줄 수 있습니다.\n",
        "\n",
        "#### Product Inventory (상품 재고):\n",
        "- 중간 정도의 중요도를 보입니다. 이는 product_inventory가 리뷰 평점에 어느 정도 영향을 미친다는 것을 의미합니다. 재고 수량이 많거나 적은 것이 사용자의 리뷰 평점에 영향을 줄 수 있습니다.\n",
        "\n",
        "#### Discount (할인율):\n",
        "- 중간 정도의 중요도를 보입니다. 이는 discount가 리뷰 평점에 영향을 미친다는 것을 의미합니다. 할인이 있는 경우 리뷰 평점에 긍정적이거나 부정적인 영향을 줄 수 있습니다.\n",
        "\n",
        "#### Quantity (구매 수량):\n",
        "- 가장 낮은 중요도를 보입니다. 이는 quantity가 리뷰 평점에 상대적으로 적은 영향을 미친다는 것을 의미합니다. 구매 수량은 리뷰 평점에 덜 중요한 요소일 수 있습니다."
      ]
    },
    {
      "cell_type": "markdown",
      "metadata": {
        "id": "ghDgNcbQuLgq"
      },
      "source": [
        "#### 데이터 전처리및 병합 목적\n",
        "- selected_features 리스트는 데이터셋에서 선택해야 하는 모든 열을 포함하여, 데이터 전처리 및 병합 작업을 위해 사용됩니다."
      ]
    },
    {
      "cell_type": "code",
      "execution_count": 8,
      "metadata": {
        "colab": {
          "base_uri": "https://localhost:8080/"
        },
        "id": "enri0BAP1tN8",
        "outputId": "07341c47-50b5-4b70-ff6c-21416d2e4570"
      },
      "outputs": [
        {
          "name": "stdout",
          "output_type": "stream",
          "text": [
            "결측값 개수:\n",
            " product_id           0\n",
            "review_star          0\n",
            "product_price        0\n",
            "product_inventory    0\n",
            "category             0\n",
            "discount             0\n",
            "product_quanity      0\n",
            "dtype: int64\n",
            "Filtered Data:\n",
            "    product_id  review_star  product_price  product_inventory  category  \\\n",
            "0           1         4.34          72135                 56         0   \n",
            "1           2         2.94          46861                  1         0   \n",
            "2           3         3.12          11210                  0         0   \n",
            "3           4         3.94          69118                 13         0   \n",
            "4           5         2.05          61117                 96         0   \n",
            "\n",
            "   discount  product_quanity  \n",
            "0        22              202  \n",
            "1        44              146  \n",
            "2         2               29  \n",
            "3        31              115  \n",
            "4        13              374  \n",
            "Filtered Data Shape: (80, 7)\n"
          ]
        }
      ],
      "source": [
        "from sklearn.preprocessing import LabelEncoder\n",
        "\n",
        "# products_df 데이터프레임이 이미 로드된 상태로 가정합니다\n",
        "\n",
        "# 필요한 열 선택\n",
        "selected_features = ['product_id', 'review_star', 'product_price', 'product_inventory', 'category', 'discount', 'product_quanity']\n",
        "\n",
        "# 범주형 변수 인코딩\n",
        "label_encoder = LabelEncoder()\n",
        "products_df['category'] = label_encoder.fit_transform(products_df['category'])\n",
        "\n",
        "# 필요한 열 선택\n",
        "filtered_data = products_df[selected_features]\n",
        "\n",
        "# 결측값 확인\n",
        "print(\"결측값 개수:\\n\", filtered_data.isnull().sum())\n",
        "filtered_data = filtered_data.dropna()\n",
        "\n",
        "# 데이터 확인\n",
        "print(\"Filtered Data:\\n\", filtered_data.head())\n",
        "print(\"Filtered Data Shape:\", filtered_data.shape)\n"
      ]
    },
    {
      "cell_type": "markdown",
      "metadata": {
        "id": "f7_x-wrJTfDX"
      },
      "source": [
        "#### 사용자 기반 추천 시스템 모델"
      ]
    },
    {
      "cell_type": "code",
      "execution_count": 9,
      "metadata": {
        "colab": {
          "base_uri": "https://localhost:8080/"
        },
        "id": "o8KFkkVVTLFk",
        "outputId": "c6e192c4-7259-4add-b33e-34d78aa27023"
      },
      "outputs": [
        {
          "name": "stdout",
          "output_type": "stream",
          "text": [
            "Mean Squared Error: 1.5985774838238949\n",
            "   product_id  predicted_review_star\n",
            "0           1               2.991878\n",
            "1           2               2.679022\n",
            "2           3               3.379395\n",
            "3           4               2.723153\n",
            "4           5               3.447498\n"
          ]
        }
      ],
      "source": [
        "from sklearn.linear_model import LinearRegression\n",
        "from sklearn.model_selection import train_test_split\n",
        "from sklearn.metrics import mean_squared_error\n",
        "from sklearn.impute import SimpleImputer\n",
        "\n",
        "features = ['product_price', 'product_inventory', 'discount', 'product_quanity']\n",
        "target = 'review_star'\n",
        "\n",
        "# 훈련 데이터와 테스트 데이터 분할\n",
        "X = filtered_data[features]\n",
        "y = filtered_data[target]\n",
        "X_train, X_test, y_train, y_test = train_test_split(X, y, test_size=0.2, random_state=42)\n",
        "\n",
        "# 회귀 모델 훈련\n",
        "model = LinearRegression()\n",
        "model.fit(X_train, y_train)\n",
        "\n",
        "# 모델 평가\n",
        "y_pred = model.predict(X_test)\n",
        "mse = mean_squared_error(y_test, y_pred)\n",
        "print(f'Mean Squared Error: {mse}')\n",
        "\n",
        "# 추천 점수 계산\n",
        "X_all = filtered_data[features]\n",
        "filtered_data['predicted_review_star'] = model.predict(X_all)\n",
        "\n",
        "# 결과 확인\n",
        "print(filtered_data[['product_id', 'predicted_review_star']].head())"
      ]
    },
    {
      "cell_type": "markdown",
      "metadata": {
        "id": "9HYJBEnzXvPN"
      },
      "source": [
        "이 추천 시스템은 회귀 모델 기반의 협업 필터링 방식입니다. 다양한 피처를 사용하여 사용자가 항목에 부여할 평점을 예측하고, 이를 기반으로 사용자가 아직 경험하지 않은 항목을 추천합니다. 이 방식은 사용자의 과거 평점 데이터를 활용하여 미래의 평점을 예측하고, 높은 평점을 받을 가능성이 있는 항목을 추천하는 방식입니다."
      ]
    },
    {
      "cell_type": "markdown",
      "metadata": {
        "id": "gf1Q6QapXhmc"
      },
      "source": [
        "- 일단 해야하는건, 추천시스템은 완성. 다만 카테고리별로 나타내줘야함."
      ]
    },
    {
      "cell_type": "markdown",
      "metadata": {
        "id": "57ep0JyyZKcZ"
      },
      "source": [
        "#### 카테고리별 평점 기반 추천시스템 - 아니 불안불안 해서 이건 확인해보려고 만든겁니다\n",
        "- 간식/과자: 0\n",
        "- 간식/초콜릿-젤리: 1\n",
        "- 와인-위스키/레드와인: 2\n",
        "- 와인-위스키/화이트-로제와인: 3\n",
        "- 유제품/우유_두유: 4\n",
        "- 유제품/아이스크림: 5\n",
        "- 정육-가공육/소고기: 6\n",
        "- 정육-가공육/돼지고기: 7"
      ]
    },
    {
      "cell_type": "code",
      "execution_count": 42,
      "metadata": {
        "colab": {
          "base_uri": "https://localhost:8080/"
        },
        "id": "QWhzXgBk2dWc",
        "outputId": "23d05f02-5bc9-4b68-c068-c266aab15fb1"
      },
      "outputs": [
        {
          "name": "stdout",
          "output_type": "stream",
          "text": [
            "0              간식/과자\n",
            "1          간식/초콜릿-젤리\n",
            "2        와인-위스키/레드와인\n",
            "3    와인-위스키/화이트-로제와인\n",
            "4          유제품/우유_두유\n",
            "5          유제품/아이스크림\n",
            "6         정육-가공육/소고기\n",
            "7        정육-가공육/돼지고기\n",
            "Name: category, dtype: object\n"
          ]
        }
      ],
      "source": [
        "print(products_df)"
      ]
    },
    {
      "cell_type": "code",
      "execution_count": 45,
      "metadata": {
        "colab": {
          "base_uri": "https://localhost:8080/"
        },
        "id": "B9A0wvFCZSnP",
        "outputId": "5887786c-d694-4009-fbaa-bd89b26978bb"
      },
      "outputs": [
        {
          "name": "stdout",
          "output_type": "stream",
          "text": [
            "Unique Categories:\n",
            " ['간식/과자' '간식/초콜릿-젤리' '와인-위스키/레드와인' '와인-위스키/화이트-로제와인' '유제품/우유_두유'\n",
            " '유제품/아이스크림' '정육-가공육/소고기' '정육-가공육/돼지고기']\n",
            "Category Mapping:\n",
            "간식/과자: 0\n",
            "간식/초콜릿-젤리: 1\n",
            "와인-위스키/레드와인: 2\n",
            "와인-위스키/화이트-로제와인: 3\n",
            "유제품/아이스크림: 4\n",
            "유제품/우유_두유: 5\n",
            "정육-가공육/돼지고기: 6\n",
            "정육-가공육/소고기: 7\n",
            "\n",
            "Category to Encoded Value Mapping:\n",
            "          Category  Encoded Value\n",
            "0            간식/과자              0\n",
            "1        간식/초콜릿-젤리              1\n",
            "2      와인-위스키/레드와인              2\n",
            "3  와인-위스키/화이트-로제와인              3\n",
            "4        유제품/아이스크림              4\n",
            "5        유제품/우유_두유              5\n",
            "6      정육-가공육/돼지고기              6\n",
            "7       정육-가공육/소고기              7\n",
            "\n",
            "Products DataFrame with Encoded Categories:\n",
            "          category  category_encoded\n",
            "0            간식/과자                 0\n",
            "1        간식/초콜릿-젤리                 1\n",
            "2      와인-위스키/레드와인                 2\n",
            "3  와인-위스키/화이트-로제와인                 3\n",
            "4        유제품/우유_두유                 5\n",
            "5        유제품/아이스크림                 4\n",
            "6       정육-가공육/소고기                 7\n",
            "7      정육-가공육/돼지고기                 6\n",
            "\n",
            "Formatted Output:\n",
            "간식/과자: 0\n",
            "간식/초콜릿-젤리: 1\n",
            "와인-위스키/레드와인: 2\n",
            "와인-위스키/화이트-로제와인: 3\n",
            "유제품/우유_두유: 5\n",
            "유제품/아이스크림: 4\n",
            "정육-가공육/소고기: 7\n",
            "정육-가공육/돼지고기: 6\n"
          ]
        }
      ],
      "source": [
        "import pandas as pd\n",
        "from sklearn.preprocessing import LabelEncoder\n",
        "\n",
        "# 카테고리 고유 값 확인\n",
        "unique_categories = products_df.unique()\n",
        "print(\"Unique Categories:\\n\", unique_categories)\n",
        "\n",
        "# 범주형 변수 인코딩\n",
        "label_encoder = LabelEncoder()\n",
        "category_encoded = label_encoder.fit_transform(products_df)\n",
        "\n",
        "# 카테고리 매핑 정보 생성\n",
        "category_mapping = dict(zip(label_encoder.classes_, range(len(label_encoder.classes_))))\n",
        "\n",
        "# 카테고리 매핑 정보 출력\n",
        "print(\"Category Mapping:\")\n",
        "for category, code in category_mapping.items():\n",
        "    print(f\"{category}: {code}\")\n",
        "\n",
        "# 매핑 확인을 위해 DataFrame 생성\n",
        "mapping_df = pd.DataFrame({\n",
        "    'Category': label_encoder.classes_,\n",
        "    'Encoded Value': range(len(label_encoder.classes_))\n",
        "})\n",
        "\n",
        "print(\"\\nCategory to Encoded Value Mapping:\")\n",
        "print(mapping_df)\n",
        "\n",
        "# 인코딩된 카테고리를 포함한 DataFrame 생성\n",
        "products_df_encoded = pd.DataFrame({\n",
        "    'category': products_df,\n",
        "    'category_encoded': category_encoded\n",
        "})\n",
        "\n",
        "print(\"\\nProducts DataFrame with Encoded Categories:\")\n",
        "print(products_df_encoded)\n",
        "\n",
        "# 원하는 형식으로 출력\n",
        "print(\"\\nFormatted Output:\")\n",
        "for index, row in products_df_encoded.iterrows():\n",
        "    print(f\"{row['category']}: {row['category_encoded']}\")\n"
      ]
    },
    {
      "cell_type": "code",
      "execution_count": 57,
      "metadata": {
        "colab": {
          "base_uri": "https://localhost:8080/"
        },
        "id": "RlkSUc8CZMc5",
        "outputId": "1be553c6-bcb3-4b14-bb2e-ef804d8d08f3"
      },
      "outputs": [
        {
          "name": "stdout",
          "output_type": "stream",
          "text": [
            "Category: 0\n",
            "   product_id  predicted_review_star\n",
            "8           9                   3.78\n",
            "4           5                   3.45\n",
            "6           7                   3.40\n",
            "2           3                   3.38\n",
            "9          10                   3.17\n",
            "0           1                   2.99\n",
            "7           8                   2.85\n",
            "3           4                   2.72\n",
            "1           2                   2.68\n",
            "5           6                   2.66\n",
            "\n",
            "\n",
            "Category: 1\n",
            "    product_id  predicted_review_star\n",
            "16          17                   3.47\n",
            "19          20                   3.36\n",
            "15          16                   3.27\n",
            "14          15                   3.19\n",
            "12          13                   3.15\n",
            "11          12                   3.11\n",
            "17          18                   3.06\n",
            "13          14                   2.72\n",
            "18          19                   2.71\n",
            "10          11                   2.65\n",
            "\n",
            "\n",
            "Category: 2\n",
            "    product_id  predicted_review_star\n",
            "23          24                   3.36\n",
            "28          29                   3.36\n",
            "24          25                   3.28\n",
            "25          26                   3.25\n",
            "22          23                   3.21\n",
            "26          27                   3.19\n",
            "21          22                   3.15\n",
            "27          28                   3.13\n",
            "20          21                   2.96\n",
            "29          30                   2.70\n",
            "\n",
            "\n",
            "Category: 3\n",
            "    product_id  predicted_review_star\n",
            "31          32                   3.76\n",
            "32          33                   3.47\n",
            "37          38                   3.45\n",
            "30          31                   3.27\n",
            "33          34                   3.24\n",
            "39          40                   3.21\n",
            "35          36                   3.19\n",
            "36          37                   2.96\n",
            "34          35                   2.90\n",
            "38          39                   2.56\n",
            "\n",
            "\n",
            "Category: 4\n",
            "    product_id  predicted_review_star\n",
            "55          56                   3.52\n",
            "52          53                   3.51\n",
            "57          58                   3.51\n",
            "51          52                   3.40\n",
            "53          54                   3.33\n",
            "59          60                   3.24\n",
            "58          59                   3.15\n",
            "54          55                   3.14\n",
            "56          57                   2.93\n",
            "50          51                   2.88\n",
            "\n",
            "\n",
            "Category: 5\n",
            "    product_id  predicted_review_star\n",
            "42          43                   3.65\n",
            "49          50                   3.65\n",
            "44          45                   3.55\n",
            "46          47                   3.31\n",
            "47          48                   3.25\n",
            "40          41                   3.22\n",
            "45          46                   3.04\n",
            "41          42                   2.83\n",
            "43          44                   2.70\n",
            "48          49                   2.58\n",
            "\n",
            "\n",
            "Category: 6\n",
            "    product_id  predicted_review_star\n",
            "72          73                   3.53\n",
            "75          76                   3.50\n",
            "79          80                   3.31\n",
            "77          78                   3.21\n",
            "76          77                   2.89\n",
            "78          79                   2.88\n",
            "74          75                   2.83\n",
            "73          74                   2.81\n",
            "70          71                   2.78\n",
            "71          72                   2.76\n",
            "\n",
            "\n",
            "Category: 7\n",
            "    product_id  predicted_review_star\n",
            "62          63                   3.74\n",
            "65          66                   3.70\n",
            "63          64                   3.31\n",
            "68          69                   3.16\n",
            "66          67                   3.04\n",
            "67          68                   2.95\n",
            "60          61                   2.91\n",
            "69          70                   2.84\n",
            "61          62                   2.78\n",
            "64          65                   2.65\n",
            "\n",
            "\n"
          ]
        }
      ],
      "source": [
        "# 카테고리 인코딩\n",
        "label_encoder = LabelEncoder()\n",
        "filtered_data['category_encoded'] = label_encoder.fit_transform(filtered_data['category'])\n",
        "\n",
        "# 카테고리 매핑 정보 생성\n",
        "category_mapping = dict(zip(label_encoder.classes_, range(len(label_encoder.classes_))))\n",
        "\n",
        "# 카테고리별로 제품과 예측 별점 출력\n",
        "def print_category_recommendations():\n",
        "    for category, code in category_mapping.items():\n",
        "        category_data = filtered_data[filtered_data['category_encoded'] == code].copy()\n",
        "\n",
        "        if not category_data.empty:\n",
        "            # 예측 별점을 소수점 둘째 자리까지 반올림\n",
        "            category_data.loc[:, 'predicted_review_star'] = category_data['predicted_review_star'].round(2)\n",
        "            print(f\"Category: {category}\")\n",
        "            print(category_data[['product_id', 'predicted_review_star']].sort_values(by='predicted_review_star', ascending=False))\n",
        "            print(\"\\n\")\n",
        "        else:\n",
        "            print(f\"No data found for category: {category}\")\n",
        "\n",
        "# 카테고리별 추천 제품 출력\n",
        "print_category_recommendations()"
      ]
    },
    {
      "cell_type": "code",
      "execution_count": 60,
      "metadata": {
        "colab": {
          "base_uri": "https://localhost:8080/"
        },
        "id": "rvaiEB6DcsD_",
        "outputId": "a0bef99c-5d6b-452d-9d5e-f98ae45388d1"
      },
      "outputs": [
        {
          "name": "stdout",
          "output_type": "stream",
          "text": [
            "Merged Data Preview:\n",
            "   product_id  review_star  product_price  product_inventory  category  \\\n",
            "0           1         4.34          72135                 56         0   \n",
            "1           2         2.94          46861                  1         0   \n",
            "2           3         3.12          11210                  0         0   \n",
            "3           4         3.94          69118                 13         0   \n",
            "4           5         2.05          61117                 96         0   \n",
            "\n",
            "   discount  product_quanity  predicted_review_star  category_encoded  \n",
            "0        22              202                   2.99                 0  \n",
            "1        44              146                   2.68                 0  \n",
            "2         2               29                   3.38                 0  \n",
            "3        31              115                   2.72                 0  \n",
            "4        13              374                   3.45                 0  \n",
            "Data has been saved to Kakao_Recsys_Output.csv\n"
          ]
        }
      ],
      "source": [
        "# 전체 데이터프레임에서 predicted_review_star를 소수점 둘째 자리까지 반올림\n",
        "filtered_data['predicted_review_star'] = filtered_data['predicted_review_star'].round(2)\n",
        "\n",
        "# 병합된 데이터 확인 (반올림 적용 후)\n",
        "print(\"Merged Data Preview:\")\n",
        "print(filtered_data.head())\n",
        "\n",
        "# 병합된 데이터를 CSV 파일로 저장\n",
        "output_filename = 'Kakao_Recsys_Output.csv'\n",
        "filtered_data.to_csv(output_filename, index=False)\n",
        "\n",
        "print(f\"Data has been saved to {output_filename}\")\n"
      ]
    },
    {
      "cell_type": "code",
      "execution_count": null,
      "metadata": {},
      "outputs": [],
      "source": [
        "for product in products:\n",
        "    product_id = product['product_id']\n",
        "\n",
        "    # filtered_data에서 해당 product_id의 predicted_review_star 값을 가져오기\n",
        "    predicted_star = filtered_data.loc[filtered_data['product_id'] == product_id, 'predicted_review_star'].values\n",
        "    \n",
        "    if len(predicted_star) > 0:\n",
        "        product['predicted_review_star'] = predicted_star[0]  # 값을 추가\n",
        "\n",
        "# 결과를 새로운 JSON 파일로 저장\n",
        "output_json_filename = 'product_predictions.json'\n",
        "with open(output_json_filename, 'w', encoding='utf-8') as f:\n",
        "    json.dump(products_data, f, ensure_ascii=False, indent=4)\n",
        "\n",
        "print(f\"Updated JSON file has been saved to {output_json_filename}\")"
      ]
    }
  ],
  "metadata": {
    "colab": {
      "provenance": []
    },
    "kernelspec": {
      "display_name": "Python 3",
      "name": "python3"
    },
    "language_info": {
      "codemirror_mode": {
        "name": "ipython",
        "version": 3
      },
      "file_extension": ".py",
      "mimetype": "text/x-python",
      "name": "python",
      "nbconvert_exporter": "python",
      "pygments_lexer": "ipython3",
      "version": "3.9.6"
    }
  },
  "nbformat": 4,
  "nbformat_minor": 0
}
